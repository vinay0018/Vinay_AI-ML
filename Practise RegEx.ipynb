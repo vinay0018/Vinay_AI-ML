{
 "cells": [
  {
   "cell_type": "markdown",
   "id": "261eb726-5055-45ba-ad61-f3d096c32bd8",
   "metadata": {},
   "source": [
    "Text Cleaning"
   ]
  },
  {
   "cell_type": "code",
   "execution_count": 1,
   "id": "fdde840d-cf67-430b-be79-ed4806f30778",
   "metadata": {},
   "outputs": [
    {
     "data": {
      "text/plain": [
       "'I am learning natural language processing.I am fond of it. I like career in same field'"
      ]
     },
     "execution_count": 1,
     "metadata": {},
     "output_type": "execute_result"
    }
   ],
   "source": [
    "text='I am learning natural language processing.I am fond of it. I like career in same field'\n",
    "text"
   ]
  },
  {
   "cell_type": "code",
   "execution_count": 2,
   "id": "73354e9f-89d1-4658-9f15-77512cec54e1",
   "metadata": {},
   "outputs": [
    {
     "name": "stderr",
     "output_type": "stream",
     "text": [
      "C:\\Users\\keert\\anaconda3\\lib\\site-packages\\numpy\\_distributor_init.py:30: UserWarning: loaded more than 1 DLL from .libs:\n",
      "C:\\Users\\keert\\anaconda3\\lib\\site-packages\\numpy\\.libs\\libopenblas.FB5AE2TYXYH2IJRDKGDGQ3XBKLKTF43H.gfortran-win_amd64.dll\n",
      "C:\\Users\\keert\\anaconda3\\lib\\site-packages\\numpy\\.libs\\libopenblas.WCDJNK7YVMPZQ2ME2ZZHJJRJ3JIKNDB7.gfortran-win_amd64.dll\n",
      "  warnings.warn(\"loaded more than 1 DLL from .libs:\"\n",
      "C:\\Users\\keert\\anaconda3\\lib\\site-packages\\scipy\\__init__.py:146: UserWarning: A NumPy version >=1.16.5 and <1.23.0 is required for this version of SciPy (detected version 1.23.3\n",
      "  warnings.warn(f\"A NumPy version >={np_minversion} and <{np_maxversion}\"\n"
     ]
    }
   ],
   "source": [
    "import nltk"
   ]
  },
  {
   "cell_type": "code",
   "execution_count": 12,
   "id": "29887790-ade8-47b0-9892-5882ff825ea4",
   "metadata": {},
   "outputs": [
    {
     "data": {
      "text/plain": [
       "['I am learning natural language processing.I am fond of it.',\n",
       " 'I like career in same field']"
      ]
     },
     "execution_count": 12,
     "metadata": {},
     "output_type": "execute_result"
    }
   ],
   "source": [
    "nltk.tokenize.sent_tokenize(text)\n"
   ]
  },
  {
   "cell_type": "code",
   "execution_count": 13,
   "id": "a04642e8-5e1b-4ba3-b745-907cb7753dfe",
   "metadata": {},
   "outputs": [],
   "source": [
    "# import nltk\n",
    "# nltk.download('punkt')"
   ]
  },
  {
   "cell_type": "code",
   "execution_count": 15,
   "id": "515fa4da-9e57-4cc7-b81f-8b539e202ac4",
   "metadata": {},
   "outputs": [
    {
     "data": {
      "text/plain": [
       "['I',\n",
       " 'am',\n",
       " 'learning',\n",
       " 'natural',\n",
       " 'language',\n",
       " 'processing.I',\n",
       " 'am',\n",
       " 'fond',\n",
       " 'of',\n",
       " 'it',\n",
       " '.',\n",
       " 'I',\n",
       " 'like',\n",
       " 'career',\n",
       " 'in',\n",
       " 'same',\n",
       " 'field']"
      ]
     },
     "execution_count": 15,
     "metadata": {},
     "output_type": "execute_result"
    }
   ],
   "source": [
    "nltk.tokenize.word_tokenize(text)"
   ]
  },
  {
   "cell_type": "code",
   "execution_count": 16,
   "id": "841d6d4d-3cd2-4f9b-85ac-eec7b6f94fb4",
   "metadata": {},
   "outputs": [],
   "source": [
    "my_stopwords= ['i','am','for','the']"
   ]
  },
  {
   "cell_type": "code",
   "execution_count": 17,
   "id": "00a87256-2446-4abb-92ca-a2ecfb1f041b",
   "metadata": {},
   "outputs": [
    {
     "data": {
      "text/plain": [
       "['learning',\n",
       " 'natural',\n",
       " 'language',\n",
       " 'processing.i',\n",
       " 'fond',\n",
       " 'of',\n",
       " 'it',\n",
       " '.',\n",
       " 'like',\n",
       " 'career',\n",
       " 'in',\n",
       " 'same',\n",
       " 'field']"
      ]
     },
     "execution_count": 17,
     "metadata": {},
     "output_type": "execute_result"
    }
   ],
   "source": [
    "clean_text= [word for word in nltk.tokenize.word_tokenize(text.lower()) if word not in my_stopwords]\n",
    "clean_text"
   ]
  },
  {
   "cell_type": "code",
   "execution_count": 25,
   "id": "27c36d57-b203-4f14-90f0-e9b5e00902cd",
   "metadata": {},
   "outputs": [
    {
     "name": "stdout",
     "output_type": "stream",
     "text": [
      "['i', 'me', 'my', 'myself', 'we', 'our', 'ours', 'ourselves', 'you', \"you're\", \"you've\", \"you'll\", \"you'd\", 'your', 'yours', 'yourself', 'yourselves', 'he', 'him', 'his', 'himself', 'she', \"she's\", 'her', 'hers', 'herself', 'it', \"it's\", 'its', 'itself', 'they', 'them', 'their', 'theirs', 'themselves', 'what', 'which', 'who', 'whom', 'this', 'that', \"that'll\", 'these', 'those', 'am', 'is', 'are', 'was', 'were', 'be', 'been', 'being', 'have', 'has', 'had', 'having', 'do', 'does', 'did', 'doing', 'a', 'an', 'the', 'and', 'but', 'if', 'or', 'because', 'as', 'until', 'while', 'of', 'at', 'by', 'for', 'with', 'about', 'against', 'between', 'into', 'through', 'during', 'before', 'after', 'above', 'below', 'to', 'from', 'up', 'down', 'in', 'out', 'on', 'off', 'over', 'under', 'again', 'further', 'then', 'once', 'here', 'there', 'when', 'where', 'why', 'how', 'all', 'any', 'both', 'each', 'few', 'more', 'most', 'other', 'some', 'such', 'no', 'nor', 'not', 'only', 'own', 'same', 'so', 'than', 'too', 'very', 's', 't', 'can', 'will', 'just', 'don', \"don't\", 'should', \"should've\", 'now', 'd', 'll', 'm', 'o', 're', 've', 'y', 'ain', 'aren', \"aren't\", 'couldn', \"couldn't\", 'didn', \"didn't\", 'doesn', \"doesn't\", 'hadn', \"hadn't\", 'hasn', \"hasn't\", 'haven', \"haven't\", 'isn', \"isn't\", 'ma', 'mightn', \"mightn't\", 'mustn', \"mustn't\", 'needn', \"needn't\", 'shan', \"shan't\", 'shouldn', \"shouldn't\", 'wasn', \"wasn't\", 'weren', \"weren't\", 'won', \"won't\", 'wouldn', \"wouldn't\"]\n"
     ]
    }
   ],
   "source": [
    "from nltk.corpus import stopwords\n",
    "mystop=stopwords.words('english')\n",
    "print(mystop)\n",
    "# stopwords.words('english')"
   ]
  },
  {
   "cell_type": "code",
   "execution_count": 21,
   "id": "5fa41eec-16bf-4d3c-84d4-4a259d7afc5e",
   "metadata": {},
   "outputs": [
    {
     "name": "stderr",
     "output_type": "stream",
     "text": [
      "[nltk_data] Downloading package stopwords to\n",
      "[nltk_data]     C:\\Users\\keert\\AppData\\Roaming\\nltk_data...\n",
      "[nltk_data]   Unzipping corpora\\stopwords.zip.\n"
     ]
    },
    {
     "data": {
      "text/plain": [
       "True"
      ]
     },
     "execution_count": 21,
     "metadata": {},
     "output_type": "execute_result"
    }
   ],
   "source": [
    "# nltk.download('stopwords')"
   ]
  },
  {
   "cell_type": "code",
   "execution_count": 26,
   "id": "12a24d67-2efb-44ff-9531-e2299a0990fb",
   "metadata": {},
   "outputs": [
    {
     "data": {
      "text/plain": [
       "True"
      ]
     },
     "execution_count": 26,
     "metadata": {},
     "output_type": "execute_result"
    }
   ],
   "source": [
    "'3'.isdigit()"
   ]
  },
  {
   "cell_type": "markdown",
   "id": "604940bd-938d-462d-96b6-32f9cf95f0ef",
   "metadata": {},
   "source": [
    "STEMMING --process of removing suffix\n",
    "AND LEMMATIZATION-- grouping together the inflected forms of a word so they can be analysed as a single item"
   ]
  },
  {
   "cell_type": "code",
   "execution_count": 28,
   "id": "fa7ea378-a606-45b3-b920-ba1e89646f4c",
   "metadata": {},
   "outputs": [],
   "source": [
    "from nltk.stem import PorterStemmer\n",
    "stemmer=PorterStemmer()"
   ]
  },
  {
   "cell_type": "code",
   "execution_count": 29,
   "id": "f18ea25e-1ca4-44f6-806b-a86865468306",
   "metadata": {},
   "outputs": [
    {
     "data": {
      "text/plain": [
       "'polici'"
      ]
     },
     "execution_count": 29,
     "metadata": {},
     "output_type": "execute_result"
    }
   ],
   "source": [
    "stemmer.stem('policy')"
   ]
  },
  {
   "cell_type": "code",
   "execution_count": 32,
   "id": "d6d646ee-8fd2-4094-bb73-3ccce5130690",
   "metadata": {},
   "outputs": [
    {
     "data": {
      "text/plain": [
       "'buy'"
      ]
     },
     "execution_count": 32,
     "metadata": {},
     "output_type": "execute_result"
    }
   ],
   "source": [
    "stemmer.stem('buying')"
   ]
  },
  {
   "cell_type": "code",
   "execution_count": 54,
   "id": "25eadbe2-4367-4b1f-a138-d239451ee58a",
   "metadata": {},
   "outputs": [],
   "source": [
    "from nltk.stem import  WordNetLemmatizer\n",
    "lemmatizer=WordNetLemmatizer()"
   ]
  },
  {
   "cell_type": "code",
   "execution_count": 41,
   "id": "8fb21e73-4806-44e1-bd29-da4e56d5acd5",
   "metadata": {},
   "outputs": [
    {
     "data": {
      "text/plain": [
       "'better'"
      ]
     },
     "execution_count": 41,
     "metadata": {},
     "output_type": "execute_result"
    }
   ],
   "source": [
    "lemmatizer.lemmatize('better',pos='n') #PartofSpeech assign"
   ]
  },
  {
   "cell_type": "code",
   "execution_count": 40,
   "id": "f55fd72f-2125-4dc1-ac7c-5a1c03a6ad6c",
   "metadata": {},
   "outputs": [
    {
     "name": "stderr",
     "output_type": "stream",
     "text": [
      "[nltk_data] Downloading package omw-1.4 to\n",
      "[nltk_data]     C:\\Users\\keert\\AppData\\Roaming\\nltk_data...\n"
     ]
    },
    {
     "data": {
      "text/plain": [
       "True"
      ]
     },
     "execution_count": 40,
     "metadata": {},
     "output_type": "execute_result"
    }
   ],
   "source": [
    "# nltk.download('wordnet')\n",
    "# nltk.download('omw-1.4')"
   ]
  },
  {
   "cell_type": "code",
   "execution_count": 42,
   "id": "c79deecc-377b-4435-99e3-2321a44499e1",
   "metadata": {},
   "outputs": [
    {
     "data": {
      "text/plain": [
       "'good'"
      ]
     },
     "execution_count": 42,
     "metadata": {},
     "output_type": "execute_result"
    }
   ],
   "source": [
    "lemmatizer.lemmatize('better',pos='a') #PartofSpeech assign  adjective"
   ]
  },
  {
   "cell_type": "code",
   "execution_count": 43,
   "id": "1239ee79-9df0-4457-a0c7-0f28bddeccc4",
   "metadata": {},
   "outputs": [
    {
     "data": {
      "text/plain": [
       "'better'"
      ]
     },
     "execution_count": 43,
     "metadata": {},
     "output_type": "execute_result"
    }
   ],
   "source": [
    "lemmatizer.lemmatize('better')"
   ]
  },
  {
   "cell_type": "code",
   "execution_count": 144,
   "id": "16ed10c6-e645-413e-9323-33afe2c0f220",
   "metadata": {},
   "outputs": [
    {
     "ename": "OSError",
     "evalue": "[E053] Could not read config file from C:\\Users\\keert\\anaconda3\\lib\\site-packages\\en_core_web_sm\\en_core_web_sm-2.2.0\\config.cfg",
     "output_type": "error",
     "traceback": [
      "\u001b[1;31m---------------------------------------------------------------------------\u001b[0m",
      "\u001b[1;31mOSError\u001b[0m                                   Traceback (most recent call last)",
      "Input \u001b[1;32mIn [144]\u001b[0m, in \u001b[0;36m<cell line: 2>\u001b[1;34m()\u001b[0m\n\u001b[0;32m      1\u001b[0m \u001b[38;5;28;01mimport\u001b[39;00m \u001b[38;5;21;01mspacy\u001b[39;00m\n\u001b[1;32m----> 2\u001b[0m nlp \u001b[38;5;241m=\u001b[39m \u001b[43mspacy\u001b[49m\u001b[38;5;241;43m.\u001b[39;49m\u001b[43mload\u001b[49m\u001b[43m(\u001b[49m\u001b[38;5;124;43m\"\u001b[39;49m\u001b[38;5;124;43men_core_web_sm\u001b[39;49m\u001b[38;5;124;43m\"\u001b[39;49m\u001b[43m)\u001b[49m\n",
      "File \u001b[1;32m~\\anaconda3\\lib\\site-packages\\spacy\\__init__.py:54\u001b[0m, in \u001b[0;36mload\u001b[1;34m(name, vocab, disable, enable, exclude, config)\u001b[0m\n\u001b[0;32m     30\u001b[0m \u001b[38;5;28;01mdef\u001b[39;00m \u001b[38;5;21mload\u001b[39m(\n\u001b[0;32m     31\u001b[0m     name: Union[\u001b[38;5;28mstr\u001b[39m, Path],\n\u001b[0;32m     32\u001b[0m     \u001b[38;5;241m*\u001b[39m,\n\u001b[1;32m   (...)\u001b[0m\n\u001b[0;32m     37\u001b[0m     config: Union[Dict[\u001b[38;5;28mstr\u001b[39m, Any], Config] \u001b[38;5;241m=\u001b[39m util\u001b[38;5;241m.\u001b[39mSimpleFrozenDict(),\n\u001b[0;32m     38\u001b[0m ) \u001b[38;5;241m-\u001b[39m\u001b[38;5;241m>\u001b[39m Language:\n\u001b[0;32m     39\u001b[0m     \u001b[38;5;124;03m\"\"\"Load a spaCy model from an installed package or a local path.\u001b[39;00m\n\u001b[0;32m     40\u001b[0m \n\u001b[0;32m     41\u001b[0m \u001b[38;5;124;03m    name (str): Package name or model path.\u001b[39;00m\n\u001b[1;32m   (...)\u001b[0m\n\u001b[0;32m     52\u001b[0m \u001b[38;5;124;03m    RETURNS (Language): The loaded nlp object.\u001b[39;00m\n\u001b[0;32m     53\u001b[0m \u001b[38;5;124;03m    \"\"\"\u001b[39;00m\n\u001b[1;32m---> 54\u001b[0m     \u001b[38;5;28;01mreturn\u001b[39;00m \u001b[43mutil\u001b[49m\u001b[38;5;241;43m.\u001b[39;49m\u001b[43mload_model\u001b[49m\u001b[43m(\u001b[49m\n\u001b[0;32m     55\u001b[0m \u001b[43m        \u001b[49m\u001b[43mname\u001b[49m\u001b[43m,\u001b[49m\n\u001b[0;32m     56\u001b[0m \u001b[43m        \u001b[49m\u001b[43mvocab\u001b[49m\u001b[38;5;241;43m=\u001b[39;49m\u001b[43mvocab\u001b[49m\u001b[43m,\u001b[49m\n\u001b[0;32m     57\u001b[0m \u001b[43m        \u001b[49m\u001b[43mdisable\u001b[49m\u001b[38;5;241;43m=\u001b[39;49m\u001b[43mdisable\u001b[49m\u001b[43m,\u001b[49m\n\u001b[0;32m     58\u001b[0m \u001b[43m        \u001b[49m\u001b[43menable\u001b[49m\u001b[38;5;241;43m=\u001b[39;49m\u001b[43menable\u001b[49m\u001b[43m,\u001b[49m\n\u001b[0;32m     59\u001b[0m \u001b[43m        \u001b[49m\u001b[43mexclude\u001b[49m\u001b[38;5;241;43m=\u001b[39;49m\u001b[43mexclude\u001b[49m\u001b[43m,\u001b[49m\n\u001b[0;32m     60\u001b[0m \u001b[43m        \u001b[49m\u001b[43mconfig\u001b[49m\u001b[38;5;241;43m=\u001b[39;49m\u001b[43mconfig\u001b[49m\u001b[43m,\u001b[49m\n\u001b[0;32m     61\u001b[0m \u001b[43m    \u001b[49m\u001b[43m)\u001b[49m\n",
      "File \u001b[1;32m~\\anaconda3\\lib\\site-packages\\spacy\\util.py:429\u001b[0m, in \u001b[0;36mload_model\u001b[1;34m(name, vocab, disable, enable, exclude, config)\u001b[0m\n\u001b[0;32m    427\u001b[0m     \u001b[38;5;28;01mreturn\u001b[39;00m get_lang_class(name\u001b[38;5;241m.\u001b[39mreplace(\u001b[38;5;124m\"\u001b[39m\u001b[38;5;124mblank:\u001b[39m\u001b[38;5;124m\"\u001b[39m, \u001b[38;5;124m\"\u001b[39m\u001b[38;5;124m\"\u001b[39m))()\n\u001b[0;32m    428\u001b[0m \u001b[38;5;28;01mif\u001b[39;00m is_package(name):  \u001b[38;5;66;03m# installed as package\u001b[39;00m\n\u001b[1;32m--> 429\u001b[0m     \u001b[38;5;28;01mreturn\u001b[39;00m load_model_from_package(name, \u001b[38;5;241m*\u001b[39m\u001b[38;5;241m*\u001b[39mkwargs)  \u001b[38;5;66;03m# type: ignore[arg-type]\u001b[39;00m\n\u001b[0;32m    430\u001b[0m \u001b[38;5;28;01mif\u001b[39;00m Path(name)\u001b[38;5;241m.\u001b[39mexists():  \u001b[38;5;66;03m# path to model data directory\u001b[39;00m\n\u001b[0;32m    431\u001b[0m     \u001b[38;5;28;01mreturn\u001b[39;00m load_model_from_path(Path(name), \u001b[38;5;241m*\u001b[39m\u001b[38;5;241m*\u001b[39mkwargs)  \u001b[38;5;66;03m# type: ignore[arg-type]\u001b[39;00m\n",
      "File \u001b[1;32m~\\anaconda3\\lib\\site-packages\\spacy\\util.py:465\u001b[0m, in \u001b[0;36mload_model_from_package\u001b[1;34m(name, vocab, disable, enable, exclude, config)\u001b[0m\n\u001b[0;32m    448\u001b[0m \u001b[38;5;124;03m\"\"\"Load a model from an installed package.\u001b[39;00m\n\u001b[0;32m    449\u001b[0m \n\u001b[0;32m    450\u001b[0m \u001b[38;5;124;03mname (str): The package name.\u001b[39;00m\n\u001b[1;32m   (...)\u001b[0m\n\u001b[0;32m    462\u001b[0m \u001b[38;5;124;03mRETURNS (Language): The loaded nlp object.\u001b[39;00m\n\u001b[0;32m    463\u001b[0m \u001b[38;5;124;03m\"\"\"\u001b[39;00m\n\u001b[0;32m    464\u001b[0m \u001b[38;5;28mcls\u001b[39m \u001b[38;5;241m=\u001b[39m importlib\u001b[38;5;241m.\u001b[39mimport_module(name)\n\u001b[1;32m--> 465\u001b[0m \u001b[38;5;28;01mreturn\u001b[39;00m \u001b[38;5;28;43mcls\u001b[39;49m\u001b[38;5;241;43m.\u001b[39;49m\u001b[43mload\u001b[49m\u001b[43m(\u001b[49m\u001b[43mvocab\u001b[49m\u001b[38;5;241;43m=\u001b[39;49m\u001b[43mvocab\u001b[49m\u001b[43m,\u001b[49m\u001b[43m \u001b[49m\u001b[43mdisable\u001b[49m\u001b[38;5;241;43m=\u001b[39;49m\u001b[43mdisable\u001b[49m\u001b[43m,\u001b[49m\u001b[43m \u001b[49m\u001b[43menable\u001b[49m\u001b[38;5;241;43m=\u001b[39;49m\u001b[43menable\u001b[49m\u001b[43m,\u001b[49m\u001b[43m \u001b[49m\u001b[43mexclude\u001b[49m\u001b[38;5;241;43m=\u001b[39;49m\u001b[43mexclude\u001b[49m\u001b[43m,\u001b[49m\u001b[43m \u001b[49m\u001b[43mconfig\u001b[49m\u001b[38;5;241;43m=\u001b[39;49m\u001b[43mconfig\u001b[49m\u001b[43m)\u001b[49m\n",
      "File \u001b[1;32m~\\anaconda3\\lib\\site-packages\\en_core_web_sm\\__init__.py:12\u001b[0m, in \u001b[0;36mload\u001b[1;34m(**overrides)\u001b[0m\n\u001b[0;32m     11\u001b[0m \u001b[38;5;28;01mdef\u001b[39;00m \u001b[38;5;21mload\u001b[39m(\u001b[38;5;241m*\u001b[39m\u001b[38;5;241m*\u001b[39moverrides):\n\u001b[1;32m---> 12\u001b[0m     \u001b[38;5;28;01mreturn\u001b[39;00m load_model_from_init_py(\u001b[38;5;18m__file__\u001b[39m, \u001b[38;5;241m*\u001b[39m\u001b[38;5;241m*\u001b[39moverrides)\n",
      "File \u001b[1;32m~\\anaconda3\\lib\\site-packages\\spacy\\util.py:646\u001b[0m, in \u001b[0;36mload_model_from_init_py\u001b[1;34m(init_file, vocab, disable, enable, exclude, config)\u001b[0m\n\u001b[0;32m    644\u001b[0m \u001b[38;5;28;01mif\u001b[39;00m \u001b[38;5;129;01mnot\u001b[39;00m model_path\u001b[38;5;241m.\u001b[39mexists():\n\u001b[0;32m    645\u001b[0m     \u001b[38;5;28;01mraise\u001b[39;00m \u001b[38;5;167;01mIOError\u001b[39;00m(Errors\u001b[38;5;241m.\u001b[39mE052\u001b[38;5;241m.\u001b[39mformat(path\u001b[38;5;241m=\u001b[39mdata_path))\n\u001b[1;32m--> 646\u001b[0m \u001b[38;5;28;01mreturn\u001b[39;00m \u001b[43mload_model_from_path\u001b[49m\u001b[43m(\u001b[49m\n\u001b[0;32m    647\u001b[0m \u001b[43m    \u001b[49m\u001b[43mdata_path\u001b[49m\u001b[43m,\u001b[49m\n\u001b[0;32m    648\u001b[0m \u001b[43m    \u001b[49m\u001b[43mvocab\u001b[49m\u001b[38;5;241;43m=\u001b[39;49m\u001b[43mvocab\u001b[49m\u001b[43m,\u001b[49m\n\u001b[0;32m    649\u001b[0m \u001b[43m    \u001b[49m\u001b[43mmeta\u001b[49m\u001b[38;5;241;43m=\u001b[39;49m\u001b[43mmeta\u001b[49m\u001b[43m,\u001b[49m\n\u001b[0;32m    650\u001b[0m \u001b[43m    \u001b[49m\u001b[43mdisable\u001b[49m\u001b[38;5;241;43m=\u001b[39;49m\u001b[43mdisable\u001b[49m\u001b[43m,\u001b[49m\n\u001b[0;32m    651\u001b[0m \u001b[43m    \u001b[49m\u001b[43menable\u001b[49m\u001b[38;5;241;43m=\u001b[39;49m\u001b[43menable\u001b[49m\u001b[43m,\u001b[49m\n\u001b[0;32m    652\u001b[0m \u001b[43m    \u001b[49m\u001b[43mexclude\u001b[49m\u001b[38;5;241;43m=\u001b[39;49m\u001b[43mexclude\u001b[49m\u001b[43m,\u001b[49m\n\u001b[0;32m    653\u001b[0m \u001b[43m    \u001b[49m\u001b[43mconfig\u001b[49m\u001b[38;5;241;43m=\u001b[39;49m\u001b[43mconfig\u001b[49m\u001b[43m,\u001b[49m\n\u001b[0;32m    654\u001b[0m \u001b[43m\u001b[49m\u001b[43m)\u001b[49m\n",
      "File \u001b[1;32m~\\anaconda3\\lib\\site-packages\\spacy\\util.py:502\u001b[0m, in \u001b[0;36mload_model_from_path\u001b[1;34m(model_path, meta, vocab, disable, enable, exclude, config)\u001b[0m\n\u001b[0;32m    500\u001b[0m config_path \u001b[38;5;241m=\u001b[39m model_path \u001b[38;5;241m/\u001b[39m \u001b[38;5;124m\"\u001b[39m\u001b[38;5;124mconfig.cfg\u001b[39m\u001b[38;5;124m\"\u001b[39m\n\u001b[0;32m    501\u001b[0m overrides \u001b[38;5;241m=\u001b[39m dict_to_dot(config)\n\u001b[1;32m--> 502\u001b[0m config \u001b[38;5;241m=\u001b[39m \u001b[43mload_config\u001b[49m\u001b[43m(\u001b[49m\u001b[43mconfig_path\u001b[49m\u001b[43m,\u001b[49m\u001b[43m \u001b[49m\u001b[43moverrides\u001b[49m\u001b[38;5;241;43m=\u001b[39;49m\u001b[43moverrides\u001b[49m\u001b[43m)\u001b[49m\n\u001b[0;32m    503\u001b[0m nlp \u001b[38;5;241m=\u001b[39m load_model_from_config(\n\u001b[0;32m    504\u001b[0m     config,\n\u001b[0;32m    505\u001b[0m     vocab\u001b[38;5;241m=\u001b[39mvocab,\n\u001b[1;32m   (...)\u001b[0m\n\u001b[0;32m    509\u001b[0m     meta\u001b[38;5;241m=\u001b[39mmeta,\n\u001b[0;32m    510\u001b[0m )\n\u001b[0;32m    511\u001b[0m \u001b[38;5;28;01mreturn\u001b[39;00m nlp\u001b[38;5;241m.\u001b[39mfrom_disk(model_path, exclude\u001b[38;5;241m=\u001b[39mexclude, overrides\u001b[38;5;241m=\u001b[39moverrides)\n",
      "File \u001b[1;32m~\\anaconda3\\lib\\site-packages\\spacy\\util.py:678\u001b[0m, in \u001b[0;36mload_config\u001b[1;34m(path, overrides, interpolate)\u001b[0m\n\u001b[0;32m    676\u001b[0m \u001b[38;5;28;01melse\u001b[39;00m:\n\u001b[0;32m    677\u001b[0m     \u001b[38;5;28;01mif\u001b[39;00m \u001b[38;5;129;01mnot\u001b[39;00m config_path \u001b[38;5;129;01mor\u001b[39;00m \u001b[38;5;129;01mnot\u001b[39;00m config_path\u001b[38;5;241m.\u001b[39mis_file():\n\u001b[1;32m--> 678\u001b[0m         \u001b[38;5;28;01mraise\u001b[39;00m \u001b[38;5;167;01mIOError\u001b[39;00m(Errors\u001b[38;5;241m.\u001b[39mE053\u001b[38;5;241m.\u001b[39mformat(path\u001b[38;5;241m=\u001b[39mconfig_path, name\u001b[38;5;241m=\u001b[39m\u001b[38;5;124m\"\u001b[39m\u001b[38;5;124mconfig file\u001b[39m\u001b[38;5;124m\"\u001b[39m))\n\u001b[0;32m    679\u001b[0m     \u001b[38;5;28;01mreturn\u001b[39;00m config\u001b[38;5;241m.\u001b[39mfrom_disk(\n\u001b[0;32m    680\u001b[0m         config_path, overrides\u001b[38;5;241m=\u001b[39moverrides, interpolate\u001b[38;5;241m=\u001b[39minterpolate\n\u001b[0;32m    681\u001b[0m     )\n",
      "\u001b[1;31mOSError\u001b[0m: [E053] Could not read config file from C:\\Users\\keert\\anaconda3\\lib\\site-packages\\en_core_web_sm\\en_core_web_sm-2.2.0\\config.cfg"
     ]
    }
   ],
   "source": [
    "import spacy\n",
    "nlp = spacy.load(\"en_core_web_sm\")"
   ]
  },
  {
   "cell_type": "code",
   "execution_count": 53,
   "id": "fd9a9045-7616-457e-bc05-c1fafdbeb5b2",
   "metadata": {},
   "outputs": [
    {
     "ename": "SyntaxError",
     "evalue": "invalid syntax (3852703900.py, line 2)",
     "output_type": "error",
     "traceback": [
      "\u001b[1;36m  Input \u001b[1;32mIn [53]\u001b[1;36m\u001b[0m\n\u001b[1;33m    python3 --m spacy download en_core_web_sm\u001b[0m\n\u001b[1;37m                ^\u001b[0m\n\u001b[1;31mSyntaxError\u001b[0m\u001b[1;31m:\u001b[0m invalid syntax\n"
     ]
    }
   ],
   "source": [
    "# pip install spacy\n",
    "# python3 -m spacy download en_core_web_sm\n",
    "# pip3 install https://github.com/explosion/spacy-models/releases/download/en_core_web_sm-2.2.0/en_core_web_sm-2.2.0.tar.gz"
   ]
  },
  {
   "cell_type": "code",
   "execution_count": 56,
   "id": "ef3a30b5-3ed9-4eb4-a15d-756ef7e3bb3b",
   "metadata": {},
   "outputs": [],
   "source": [
    "import re"
   ]
  },
  {
   "cell_type": "code",
   "execution_count": 57,
   "id": "58cbc2e7-e20a-449f-bf70-1ba833f3d078",
   "metadata": {},
   "outputs": [
    {
     "data": {
      "text/plain": [
       "['abc']"
      ]
     },
     "execution_count": 57,
     "metadata": {},
     "output_type": "execute_result"
    }
   ],
   "source": [
    "re.findall('abc','abc is a great boy. so what')"
   ]
  },
  {
   "cell_type": "code",
   "execution_count": 58,
   "id": "76473d31-3674-4b2e-bfa2-284ded099509",
   "metadata": {},
   "outputs": [
    {
     "data": {
      "text/plain": [
       "[]"
      ]
     },
     "execution_count": 58,
     "metadata": {},
     "output_type": "execute_result"
    }
   ],
   "source": [
    "re.findall('abcd','abc is a great boy. so what')"
   ]
  },
  {
   "cell_type": "code",
   "execution_count": 64,
   "id": "4333f9b4-f97e-4464-bf63-fd45a0dc28b6",
   "metadata": {},
   "outputs": [
    {
     "data": {
      "text/plain": [
       "['abcd']"
      ]
     },
     "execution_count": 64,
     "metadata": {},
     "output_type": "execute_result"
    }
   ],
   "source": [
    "re.findall('abcd','abcde is a great boy. so what ABCd')"
   ]
  },
  {
   "cell_type": "code",
   "execution_count": 63,
   "id": "e14b9570-272c-491b-8b80-0e8c3c0d164e",
   "metadata": {},
   "outputs": [
    {
     "data": {
      "text/plain": [
       "<re.Match object; span=(0, 4), match='abcd'>"
      ]
     },
     "execution_count": 63,
     "metadata": {},
     "output_type": "execute_result"
    }
   ],
   "source": [
    "re.search('abcd','abcde is a great boy. so what abcd')"
   ]
  },
  {
   "cell_type": "code",
   "execution_count": 65,
   "id": "81d35232-e6ad-4c7b-82db-97d5693fd1d6",
   "metadata": {},
   "outputs": [
    {
     "data": {
      "text/plain": [
       "'abcd'"
      ]
     },
     "execution_count": 65,
     "metadata": {},
     "output_type": "execute_result"
    }
   ],
   "source": [
    "'abcde is a great boy. so what abcd'[0:4]"
   ]
  },
  {
   "cell_type": "code",
   "execution_count": 68,
   "id": "91e87dbe-afee-4da6-8f1f-21c3e777c6e6",
   "metadata": {},
   "outputs": [
    {
     "data": {
      "text/plain": [
       "[<re.Match object; span=(0, 4), match='abcd'>,\n",
       " <re.Match object; span=(30, 34), match='abcd'>]"
      ]
     },
     "execution_count": 68,
     "metadata": {},
     "output_type": "execute_result"
    }
   ],
   "source": [
    "list(re.finditer('abcd','abcde is a great boy. so what abcd'))"
   ]
  },
  {
   "cell_type": "code",
   "execution_count": 69,
   "id": "cfed7b7d-28cc-4190-9ea1-64efed2f43b5",
   "metadata": {},
   "outputs": [
    {
     "data": {
      "text/plain": [
       "[1, 2, 3]"
      ]
     },
     "execution_count": 69,
     "metadata": {},
     "output_type": "execute_result"
    }
   ],
   "source": [
    "list(range(1,4))"
   ]
  },
  {
   "cell_type": "code",
   "execution_count": 70,
   "id": "f060f41f-dcb5-4324-bf71-e97e5d4a326c",
   "metadata": {},
   "outputs": [
    {
     "data": {
      "text/plain": [
       "range(1, 4)"
      ]
     },
     "execution_count": 70,
     "metadata": {},
     "output_type": "execute_result"
    }
   ],
   "source": [
    "range(1,4)"
   ]
  },
  {
   "cell_type": "code",
   "execution_count": 72,
   "id": "5c7deb25-e704-451b-be8a-39ce7d5e7879",
   "metadata": {},
   "outputs": [
    {
     "data": {
      "text/plain": [
       "2"
      ]
     },
     "execution_count": 72,
     "metadata": {},
     "output_type": "execute_result"
    }
   ],
   "source": [
    "'abcd is a great boy. so what abcd'.split().count('abcd')"
   ]
  },
  {
   "cell_type": "code",
   "execution_count": 73,
   "id": "c555fb09-9ca2-4347-8258-33bd112d5684",
   "metadata": {},
   "outputs": [
    {
     "data": {
      "text/plain": [
       "'xyze is a great boy. so what xyz'"
      ]
     },
     "execution_count": 73,
     "metadata": {},
     "output_type": "execute_result"
    }
   ],
   "source": [
    "re.sub('abcd','xyz','abcde is a great boy. so what abcd')"
   ]
  },
  {
   "cell_type": "code",
   "execution_count": 75,
   "id": "18ea37f3-a8db-4a80-af7c-6a95704ae3ac",
   "metadata": {},
   "outputs": [],
   "source": [
    "match=re.compile('abcd') #compile the match in object)"
   ]
  },
  {
   "cell_type": "code",
   "execution_count": 77,
   "id": "0d976cc5-4e04-48f8-8577-08e8743c0254",
   "metadata": {},
   "outputs": [
    {
     "data": {
      "text/plain": [
       "<re.Match object; span=(0, 4), match='abcd'>"
      ]
     },
     "execution_count": 77,
     "metadata": {},
     "output_type": "execute_result"
    }
   ],
   "source": [
    "match.search('abcde is a great boy. so what abcd')"
   ]
  },
  {
   "cell_type": "code",
   "execution_count": 78,
   "id": "aa190857-07e5-4965-a110-2a0fbb556593",
   "metadata": {},
   "outputs": [
    {
     "data": {
      "text/plain": [
       "'xyze is a great boy. so what xyz'"
      ]
     },
     "execution_count": 78,
     "metadata": {},
     "output_type": "execute_result"
    }
   ],
   "source": [
    "match.sub('xyz','abcde is a great boy. so what abcd')"
   ]
  },
  {
   "cell_type": "code",
   "execution_count": 80,
   "id": "5a262644-2087-4c3a-85a3-b8f817ae2d98",
   "metadata": {},
   "outputs": [
    {
     "data": {
      "text/plain": [
       "[<re.Match object; span=(0, 4), match='abcd'>,\n",
       " <re.Match object; span=(30, 34), match='abcd'>]"
      ]
     },
     "execution_count": 80,
     "metadata": {},
     "output_type": "execute_result"
    }
   ],
   "source": [
    "list(match.finditer('abcde is a great boy. so what abcd'))"
   ]
  },
  {
   "cell_type": "code",
   "execution_count": 103,
   "id": "46ebc649-c403-4916-baa8-1d7a7b1538b9",
   "metadata": {},
   "outputs": [],
   "source": [
    "match=re.compile('.') # dot means capture anything"
   ]
  },
  {
   "cell_type": "code",
   "execution_count": 105,
   "id": "4d469b3f-3c31-49f3-931c-a5e301a6d836",
   "metadata": {},
   "outputs": [
    {
     "data": {
      "text/plain": [
       "[<re.Match object; span=(0, 1), match='a'>,\n",
       " <re.Match object; span=(1, 2), match='b'>,\n",
       " <re.Match object; span=(2, 3), match='c'>,\n",
       " <re.Match object; span=(3, 4), match='d'>,\n",
       " <re.Match object; span=(4, 5), match='e'>,\n",
       " <re.Match object; span=(5, 6), match=' '>,\n",
       " <re.Match object; span=(6, 7), match='i'>,\n",
       " <re.Match object; span=(7, 8), match='s'>,\n",
       " <re.Match object; span=(8, 9), match=' '>,\n",
       " <re.Match object; span=(9, 10), match='a'>,\n",
       " <re.Match object; span=(10, 11), match=' '>,\n",
       " <re.Match object; span=(11, 12), match='g'>,\n",
       " <re.Match object; span=(12, 13), match='r'>,\n",
       " <re.Match object; span=(13, 14), match='e'>,\n",
       " <re.Match object; span=(14, 15), match='a'>,\n",
       " <re.Match object; span=(15, 16), match='t'>,\n",
       " <re.Match object; span=(16, 17), match=' '>,\n",
       " <re.Match object; span=(17, 18), match='b'>,\n",
       " <re.Match object; span=(18, 19), match='o'>,\n",
       " <re.Match object; span=(19, 20), match='y'>,\n",
       " <re.Match object; span=(20, 21), match='.'>,\n",
       " <re.Match object; span=(21, 22), match=' '>,\n",
       " <re.Match object; span=(22, 23), match='s'>,\n",
       " <re.Match object; span=(23, 24), match='o'>,\n",
       " <re.Match object; span=(24, 25), match=' '>,\n",
       " <re.Match object; span=(25, 26), match='w'>,\n",
       " <re.Match object; span=(26, 27), match='h'>,\n",
       " <re.Match object; span=(27, 28), match='a'>,\n",
       " <re.Match object; span=(28, 29), match='t'>,\n",
       " <re.Match object; span=(29, 30), match=' '>,\n",
       " <re.Match object; span=(30, 31), match='a'>,\n",
       " <re.Match object; span=(31, 32), match='b'>,\n",
       " <re.Match object; span=(32, 33), match='c'>,\n",
       " <re.Match object; span=(33, 34), match='d'>,\n",
       " <re.Match object; span=(34, 35), match='.'>]"
      ]
     },
     "execution_count": 105,
     "metadata": {},
     "output_type": "execute_result"
    }
   ],
   "source": [
    "list(match.finditer('abcde is a great boy. so what abcd.'))"
   ]
  },
  {
   "cell_type": "code",
   "execution_count": 88,
   "id": "ebc9c496-2006-4c6a-9dd3-0589135e11fd",
   "metadata": {},
   "outputs": [
    {
     "data": {
      "text/plain": [
       "<re.Match object; span=(0, 1), match='a'>"
      ]
     },
     "execution_count": 88,
     "metadata": {},
     "output_type": "execute_result"
    }
   ],
   "source": [
    "match.search('abcde is a great boy. so what abcd')"
   ]
  },
  {
   "cell_type": "code",
   "execution_count": 89,
   "id": "3ce5705d-b48f-4f64-8de4-697c11c7f15a",
   "metadata": {},
   "outputs": [],
   "source": [
    "#Remove . from a string"
   ]
  },
  {
   "cell_type": "code",
   "execution_count": 90,
   "id": "4b4bed3d-756e-4a6b-bc40-5a95d099c7c6",
   "metadata": {},
   "outputs": [
    {
     "name": "stdout",
     "output_type": "stream",
     "text": [
      "\tto you\n"
     ]
    }
   ],
   "source": [
    "print('\\tto you')"
   ]
  },
  {
   "cell_type": "code",
   "execution_count": 91,
   "id": "fa264ac4-fdb9-4cb1-b02a-7b4a4878026d",
   "metadata": {},
   "outputs": [
    {
     "name": "stdout",
     "output_type": "stream",
     "text": [
      "\\tto you\n"
     ]
    }
   ],
   "source": [
    "print('\\\\tto you')  #back slash is escape character"
   ]
  },
  {
   "cell_type": "code",
   "execution_count": 92,
   "id": "1ec22526-cf2d-4652-8467-d33f51efaa7f",
   "metadata": {},
   "outputs": [
    {
     "data": {
      "text/plain": [
       "'xxxxxxxxxxxxxx'"
      ]
     },
     "execution_count": 92,
     "metadata": {},
     "output_type": "execute_result"
    }
   ],
   "source": [
    "re.sub('.','x','yo man.wassup.')"
   ]
  },
  {
   "cell_type": "code",
   "execution_count": 93,
   "id": "17430a04-b8f1-4258-9460-6267d9e59570",
   "metadata": {},
   "outputs": [
    {
     "data": {
      "text/plain": [
       "'yo manxwassupx'"
      ]
     },
     "execution_count": 93,
     "metadata": {},
     "output_type": "execute_result"
    }
   ],
   "source": [
    "re.sub('\\.','x','yo man.wassup.')"
   ]
  },
  {
   "cell_type": "code",
   "execution_count": 95,
   "id": "ab287fc2-19b2-4af0-852e-95ce8931005d",
   "metadata": {},
   "outputs": [
    {
     "data": {
      "text/plain": [
       "'xo man.wassup xu.'"
      ]
     },
     "execution_count": 95,
     "metadata": {},
     "output_type": "execute_result"
    }
   ],
   "source": [
    "re.sub('Y|y.','x','Yo man.wassup you.') #Or character |"
   ]
  },
  {
   "cell_type": "code",
   "execution_count": 100,
   "id": "cb03fee1-b105-4eb6-baf1-84f94bce4893",
   "metadata": {},
   "outputs": [
    {
     "data": {
      "text/plain": [
       "'yo man.I have 5 year exp.'"
      ]
     },
     "execution_count": 100,
     "metadata": {},
     "output_type": "execute_result"
    }
   ],
   "source": [
    "re.sub('\\+','','yo man.I have 5+ year exp.')   # + is special cahracter. ! - are not"
   ]
  },
  {
   "cell_type": "code",
   "execution_count": 101,
   "id": "56a188b1-8efd-4f34-96bf-dd8805345c4b",
   "metadata": {},
   "outputs": [
    {
     "data": {
      "text/plain": [
       "'yo manI have 5+ year exp.'"
      ]
     },
     "execution_count": 101,
     "metadata": {},
     "output_type": "execute_result"
    }
   ],
   "source": [
    "re.sub('\\!','','yo man!!!I have 5+ year exp.')"
   ]
  },
  {
   "cell_type": "code",
   "execution_count": 107,
   "id": "86d65777-3b7d-4fb1-8170-1d1e207864d2",
   "metadata": {},
   "outputs": [
    {
     "data": {
      "text/plain": [
       "['.', '.']"
      ]
     },
     "execution_count": 107,
     "metadata": {},
     "output_type": "execute_result"
    }
   ],
   "source": [
    "re.findall('\\.', 'yo man.wassup.')"
   ]
  },
  {
   "cell_type": "code",
   "execution_count": 110,
   "id": "6dcc5dd1-793a-4216-badd-6ad138d4d465",
   "metadata": {},
   "outputs": [
    {
     "data": {
      "text/plain": [
       "['/', '/']"
      ]
     },
     "execution_count": 110,
     "metadata": {},
     "output_type": "execute_result"
    }
   ],
   "source": [
    "re.findall('/', 'https://yo man.wassup.')"
   ]
  },
  {
   "cell_type": "code",
   "execution_count": 112,
   "id": "637f3624-fa8a-49a4-9dd4-bfc84c801a3a",
   "metadata": {},
   "outputs": [
    {
     "name": "stdout",
     "output_type": "stream",
     "text": [
      "\\wassup\n"
     ]
    }
   ],
   "source": [
    "print('\\wassup')"
   ]
  },
  {
   "cell_type": "code",
   "execution_count": 116,
   "id": "68207be1-64d2-42a8-b201-bcd887e5f42b",
   "metadata": {},
   "outputs": [
    {
     "name": "stdout",
     "output_type": "stream",
     "text": [
      "\n",
      "wass\n",
      "sup\n"
     ]
    }
   ],
   "source": [
    "print('\\nwass\\nsup')"
   ]
  },
  {
   "cell_type": "code",
   "execution_count": 114,
   "id": "923cef39-ef54-4660-97f9-027ad2c3a1a3",
   "metadata": {},
   "outputs": [
    {
     "name": "stdout",
     "output_type": "stream",
     "text": [
      "\\nwas\\nsup\n"
     ]
    }
   ],
   "source": [
    "print(r'\\nwass\\nsup') # include r to say dont consider them as special chars"
   ]
  },
  {
   "cell_type": "code",
   "execution_count": 137,
   "id": "668cd874-b41b-45fd-acd5-64be09520a2f",
   "metadata": {},
   "outputs": [],
   "source": [
    "sentence='In film, television, and theatre, typecasting is the process 5+ 6- by which a particular actor becomes strongly identified with a specific character, one or more particular roles, or characters having the same traits or coming from the same social or ethnic groups.'"
   ]
  },
  {
   "cell_type": "code",
   "execution_count": 142,
   "id": "21eea30a-e32f-470c-9fe7-16d11c042597",
   "metadata": {},
   "outputs": [],
   "source": [
    "# pattern=re.compile(r'.') #capture anything\n",
    "# pattern=re.compile(r'\\.')\n",
    "pattern=re.compile(r'\\d') #capture all digits\n",
    "# pattern=re.compile(r'\\D') #capture all non  digits\n",
    "# pattern=re.compile(r'\\w') #A-z 0-9 _\n",
    "# pattern=re.compile(r'\\W')\n",
    "# pattern=re.compile(r'\\s') #capture all white spaces\n",
    "# pattern=re.compile(r'\\S')\n",
    "# pattern=re.compile(r'[A-Z]') #upper case \n",
    "# pattern=re.compile(r'[a-z]')\n",
    "# pattern=re.compile(r'[A-z]') #all cases\n"
   ]
  },
  {
   "cell_type": "code",
   "execution_count": 143,
   "id": "4efe5a51-6a56-4a31-a0fb-d0f35b77950b",
   "metadata": {},
   "outputs": [
    {
     "name": "stdout",
     "output_type": "stream",
     "text": [
      "<re.Match object; span=(61, 62), match='5'>\n",
      "<re.Match object; span=(64, 65), match='6'>\n"
     ]
    }
   ],
   "source": [
    "matches = pattern.finditer(sentence)\n",
    "for match in matches:\n",
    "    print(match)"
   ]
  },
  {
   "cell_type": "code",
   "execution_count": 154,
   "id": "e2de8df9-b743-41cb-8179-19f18edbc9e5",
   "metadata": {},
   "outputs": [],
   "source": [
    "sentence1='In film, television, and theatre, typecasting is the process 5+ 6- by which a particular actor becomes strongly.'\n",
    "sentence2=' theatre, typecasting is the process 5+ 6- by which a particular actor becomes strongly'\n"
   ]
  },
  {
   "cell_type": "markdown",
   "id": "b0bd8775-fc0e-4613-8e68-724059652ea3",
   "metadata": {},
   "source": [
    "^ start of sentence\n",
    "$ end of string"
   ]
  },
  {
   "cell_type": "code",
   "execution_count": 155,
   "id": "13d03467-93c3-4dab-ac6a-5ee34f2cc3d4",
   "metadata": {},
   "outputs": [],
   "source": [
    "pattern=re.compile(r'^[A-Z]')"
   ]
  },
  {
   "cell_type": "code",
   "execution_count": 156,
   "id": "ef62ec22-0e35-4f90-bf07-50f22836e3b9",
   "metadata": {},
   "outputs": [
    {
     "name": "stdout",
     "output_type": "stream",
     "text": [
      "<re.Match object; span=(0, 1), match='I'>\n"
     ]
    }
   ],
   "source": [
    "matches = pattern.finditer(sentence1)\n",
    "for match in matches:\n",
    "    print(match)"
   ]
  },
  {
   "cell_type": "code",
   "execution_count": 157,
   "id": "59bb4843-1d9b-4744-9766-85d3fec096d4",
   "metadata": {},
   "outputs": [],
   "source": [
    "matches = pattern.finditer(sentence2)\n",
    "for match in matches:\n",
    "    print(match)"
   ]
  },
  {
   "cell_type": "code",
   "execution_count": 158,
   "id": "2fbd7bc1-cd62-41a0-8934-63971c9d409a",
   "metadata": {},
   "outputs": [
    {
     "name": "stdout",
     "output_type": "stream",
     "text": [
      "<re.Match object; span=(111, 112), match='.'>\n"
     ]
    }
   ],
   "source": [
    "pattern=re.compile(r'.$')\n",
    "matches = pattern.finditer(sentence1)\n",
    "for match in matches:\n",
    "    print(match)"
   ]
  },
  {
   "cell_type": "code",
   "execution_count": 179,
   "id": "6efcbc98-c4b9-4eed-9686-b8e23c98ee3a",
   "metadata": {},
   "outputs": [],
   "source": [
    "sentences=['I am good','I am sad','you are good','3789 is my pin']\n"
   ]
  },
  {
   "cell_type": "code",
   "execution_count": 182,
   "id": "f07b12b7-c74b-41aa-ab5b-9494a97670d2",
   "metadata": {},
   "outputs": [],
   "source": [
    "def replacefun(SeriesofSent, FStartEnd,Char1, Char2):\n",
    "    sentences1=[]\n",
    "    if FStartEnd=='Start':\n",
    "        pattern1='^'+Char1\n",
    "    else:\n",
    "        pattern1=Char1+'$'\n",
    "    pattern=re.compile(pattern1)  \n",
    "    for a in SeriesofSent:\n",
    "        # print(a)\n",
    "        sentences1.append(pattern.sub(Char2,a))\n",
    "        # print(sentences1)\n",
    "    return sentences1\n",
    "       \n",
    "    "
   ]
  },
  {
   "cell_type": "code",
   "execution_count": 183,
   "id": "4cdb1747-5603-4657-be17-249d56c8f09d",
   "metadata": {},
   "outputs": [
    {
     "data": {
      "text/plain": [
       "['XYZ am good', 'XYZ am sad', 'you are good', '3789 is my pin']"
      ]
     },
     "execution_count": 183,
     "metadata": {},
     "output_type": "execute_result"
    }
   ],
   "source": [
    "replacefun(sentences, 'Start','[A-Z]','XYZ')"
   ]
  },
  {
   "cell_type": "code",
   "execution_count": 184,
   "id": "90b92512-e17b-4b27-8c46-12b0a44f929c",
   "metadata": {},
   "outputs": [
    {
     "data": {
      "text/plain": [
       "['I am good', 'I am sad', 'you are good', 'XYZ789 is my pin']"
      ]
     },
     "execution_count": 184,
     "metadata": {},
     "output_type": "execute_result"
    }
   ],
   "source": [
    "replacefun(sentences, 'Start','[0-9]','XYZ')"
   ]
  },
  {
   "cell_type": "code",
   "execution_count": 203,
   "id": "27c09ec1-8a3f-4d33-9ae6-7c536b739f05",
   "metadata": {},
   "outputs": [],
   "source": [
    "sentences='''123-456-6788\n",
    "343-543-3555\n",
    "345-355-5555'''\n"
   ]
  },
  {
   "cell_type": "code",
   "execution_count": 198,
   "id": "3158aef3-d235-41f7-b38a-2229db8a8acd",
   "metadata": {},
   "outputs": [],
   "source": [
    "# pattern=re.compile('\\d')\n",
    "pattern=re.compile('\\d\\d\\d\\d')\n",
    "# pattern=re.compile('\\d\\d\\d.')\n",
    "# pattern=re.compile('\\d')\n",
    "# pattern=re.compile('\\d\\d\\d-\\d\\d\\d-\\d\\d\\d\\d')"
   ]
  },
  {
   "cell_type": "code",
   "execution_count": 205,
   "id": "a9cc7c2f-2fab-4cbd-9000-84db107ce973",
   "metadata": {},
   "outputs": [
    {
     "name": "stdout",
     "output_type": "stream",
     "text": [
      "<re.Match object; span=(0, 12), match='123-456-6788'>\n",
      "<re.Match object; span=(13, 25), match='343-543-3555'>\n",
      "<re.Match object; span=(26, 38), match='345-355-5555'>\n"
     ]
    }
   ],
   "source": [
    "\n",
    "matches=pattern.finditer(sentences)\n",
    "for match in matches:\n",
    "    print(match)"
   ]
  },
  {
   "cell_type": "code",
   "execution_count": 206,
   "id": "d6822a63-5487-4b80-8673-6d99168e3b19",
   "metadata": {},
   "outputs": [
    {
     "name": "stdout",
     "output_type": "stream",
     "text": [
      "<re.Match object; span=(0, 12), match='123-456-6788'>\n",
      "<re.Match object; span=(13, 25), match='343-543-3555'>\n",
      "<re.Match object; span=(26, 38), match='345-355-5555'>\n"
     ]
    }
   ],
   "source": [
    "pattern=re.compile('\\d\\d\\d-\\d\\d\\d-\\d\\d\\d\\d')\n",
    "\n",
    "matches=pattern.finditer(sentences)\n",
    "for match in matches:\n",
    "    print(match)"
   ]
  },
  {
   "cell_type": "code",
   "execution_count": 210,
   "id": "0c6c4d25-dd0e-4469-9475-3379db787bd2",
   "metadata": {},
   "outputs": [
    {
     "name": "stdout",
     "output_type": "stream",
     "text": [
      "<re.Match object; span=(0, 3), match='123'>\n",
      "<re.Match object; span=(4, 7), match='456'>\n",
      "<re.Match object; span=(8, 11), match='678'>\n",
      "<re.Match object; span=(13, 16), match='343'>\n",
      "<re.Match object; span=(17, 20), match='543'>\n",
      "<re.Match object; span=(21, 24), match='355'>\n",
      "<re.Match object; span=(26, 29), match='345'>\n",
      "<re.Match object; span=(30, 33), match='355'>\n",
      "<re.Match object; span=(34, 37), match='555'>\n"
     ]
    }
   ],
   "source": [
    "pattern=re.compile('\\d\\d\\d')\n",
    "\n",
    "matches=pattern.finditer(sentences)\n",
    "for match in matches:\n",
    "    print(match)"
   ]
  },
  {
   "cell_type": "code",
   "execution_count": 220,
   "id": "961b64ca-204c-4a60-a6fd-af0ba5a0432d",
   "metadata": {},
   "outputs": [],
   "source": [
    "sentences='''123-456-6788\n",
    "343-543-3555\n",
    "345-355-5555'''\n"
   ]
  },
  {
   "cell_type": "code",
   "execution_count": 222,
   "id": "ba570c82-6ede-48c7-bb58-c665a8e60efa",
   "metadata": {},
   "outputs": [],
   "source": [
    "pattern=re.compile('\\d\\d\\d$')"
   ]
  },
  {
   "cell_type": "code",
   "execution_count": 221,
   "id": "961104a8-d996-4041-bf82-f8ab2881129c",
   "metadata": {},
   "outputs": [
    {
     "name": "stdout",
     "output_type": "stream",
     "text": [
      "<re.Match object; span=(35, 38), match='555'>\n"
     ]
    }
   ],
   "source": [
    "matches=pattern.finditer(sentences)\n",
    "\n",
    "for match in matches:\n",
    "    print(match)"
   ]
  },
  {
   "cell_type": "code",
   "execution_count": 218,
   "id": "e6937fe4-b2dc-4aee-8a27-bc089416ab66",
   "metadata": {},
   "outputs": [],
   "source": [
    "sentences='''123-456-6788\n",
    "343-543-3555\n",
    "345-355-5555'''\n"
   ]
  },
  {
   "cell_type": "code",
   "execution_count": 223,
   "id": "305084fb-8a38-4f64-938d-635cd947f98c",
   "metadata": {},
   "outputs": [
    {
     "data": {
      "text/plain": [
       "'123-456-6788\\n343-543-3555\\n345-355-5YYY'"
      ]
     },
     "execution_count": 223,
     "metadata": {},
     "output_type": "execute_result"
    }
   ],
   "source": [
    "pattern=re.compile('\\d\\d\\d$')\n",
    "pattern.sub('YYY',sentences)"
   ]
  },
  {
   "cell_type": "code",
   "execution_count": 214,
   "id": "22dcb4fe-a04d-41ad-8c42-d0adadddc8b0",
   "metadata": {},
   "outputs": [],
   "source": [
    "def replacefun(SeriesofSent, FStartEnd,Char1, Char2):\n",
    "    sentences1=[]\n",
    "    if FStartEnd=='Start':\n",
    "        pattern1='^'+Char1\n",
    "    else:\n",
    "        pattern1=Char1+'$'\n",
    "    pattern=re.compile(pattern1)  \n",
    "    if  \n",
    "    \n",
    "    for a in SeriesofSent:\n",
    "        # print(a)\n",
    "        sentences1.append(pattern.sub(Char2,a))\n",
    "        # print(sentences1)\n",
    "    return sentences1\n",
    "       \n",
    "    "
   ]
  },
  {
   "cell_type": "code",
   "execution_count": 215,
   "id": "5af10238-8732-4695-b0c0-b1c89bc35d56",
   "metadata": {},
   "outputs": [
    {
     "data": {
      "text/plain": [
       "['1',\n",
       " '2',\n",
       " '3',\n",
       " '-',\n",
       " '4',\n",
       " '5',\n",
       " '6',\n",
       " '-',\n",
       " '6',\n",
       " '7',\n",
       " '8',\n",
       " '8',\n",
       " '\\n',\n",
       " '3',\n",
       " '4',\n",
       " '3',\n",
       " '-',\n",
       " '5',\n",
       " '4',\n",
       " '3',\n",
       " '-',\n",
       " '3',\n",
       " '5',\n",
       " '5',\n",
       " '5',\n",
       " '\\n',\n",
       " '3',\n",
       " '4',\n",
       " '5',\n",
       " '-',\n",
       " '3',\n",
       " '5',\n",
       " '5',\n",
       " '-',\n",
       " '5',\n",
       " '5',\n",
       " '5',\n",
       " '5']"
      ]
     },
     "execution_count": 215,
     "metadata": {},
     "output_type": "execute_result"
    }
   ],
   "source": [
    "replacefun(sentences, 'End','[A-Z]','XYZ')"
   ]
  },
  {
   "cell_type": "code",
   "execution_count": 224,
   "id": "9a0cfbfc-4dc1-4492-85d8-353057d470ec",
   "metadata": {},
   "outputs": [],
   "source": [
    "sentences='''123-456-6788\n",
    "343-543-3555\n",
    "345-355-5555'''"
   ]
  },
  {
   "cell_type": "code",
   "execution_count": 226,
   "id": "eea14951-7960-4c6e-8df9-f50aa0ef4744",
   "metadata": {},
   "outputs": [
    {
     "name": "stdout",
     "output_type": "stream",
     "text": [
      "<re.Match object; span=(0, 3), match='123'>\n",
      "<re.Match object; span=(4, 7), match='456'>\n",
      "<re.Match object; span=(8, 11), match='678'>\n",
      "<re.Match object; span=(13, 16), match='343'>\n",
      "<re.Match object; span=(17, 20), match='543'>\n",
      "<re.Match object; span=(21, 24), match='355'>\n",
      "<re.Match object; span=(26, 29), match='345'>\n",
      "<re.Match object; span=(30, 33), match='355'>\n",
      "<re.Match object; span=(34, 37), match='555'>\n"
     ]
    }
   ],
   "source": [
    "pattern=re.compile('\\w\\w\\w')\n",
    "matches=pattern.finditer(sentences)\n",
    "\n",
    "for match in matches:\n",
    "    print(match)"
   ]
  },
  {
   "cell_type": "code",
   "execution_count": 266,
   "id": "e1a6ff83-152f-449f-8f0f-c0cc28004beb",
   "metadata": {},
   "outputs": [],
   "source": [
    "sentences='''\n",
    "    vin.kal@gmail.com \n",
    "    aks.45@yahoo.com\n",
    "    mahira.kalakuntla@hotmail.com\n",
    "'''"
   ]
  },
  {
   "cell_type": "code",
   "execution_count": 267,
   "id": "7f0ce9e4-6e1a-49d7-ad74-345bfc5292a2",
   "metadata": {},
   "outputs": [
    {
     "data": {
      "text/plain": [
       "<re.Match object; span=(5, 22), match='vin.kal@gmail.com'>"
      ]
     },
     "execution_count": 267,
     "metadata": {},
     "output_type": "execute_result"
    }
   ],
   "source": [
    "re.search('\\w\\w\\w.\\w\\w\\w@gmail.com',sentences)"
   ]
  },
  {
   "cell_type": "code",
   "execution_count": 268,
   "id": "6910ba3b-2471-4ec7-95a5-d246d40bdbd1",
   "metadata": {},
   "outputs": [
    {
     "data": {
      "text/plain": [
       "<re.Match object; span=(0, 16), match='aks.45@yahoo.com'>"
      ]
     },
     "execution_count": 268,
     "metadata": {},
     "output_type": "execute_result"
    }
   ],
   "source": [
    "re.search('a\\w\\w.\\d\\d@yahoo.com','aks.45@yahoo.com')\n",
    "# re.search('a\\w\\w.\\d\\d@yahoo.com',sentences)"
   ]
  },
  {
   "cell_type": "code",
   "execution_count": 269,
   "id": "f1026660-4384-4682-9cb9-6b77a0dd2432",
   "metadata": {},
   "outputs": [
    {
     "data": {
      "text/plain": [
       "<re.Match object; span=(12, 16), match='@gma'>"
      ]
     },
     "execution_count": 269,
     "metadata": {},
     "output_type": "execute_result"
    }
   ],
   "source": [
    "re.search('@\\w\\w\\w',sentences)"
   ]
  },
  {
   "cell_type": "code",
   "execution_count": 285,
   "id": "aaabc209-84eb-43bc-be71-36c5f72994d7",
   "metadata": {},
   "outputs": [],
   "source": [
    "sentences='''\n",
    "    323-449-2347 vin.kal@gmail.com \n",
    "    +1-303-445-2377  aks.45@yahoo.com\n",
    "    31-449-234  mahira.kalakuntla@hotmail.com\n",
    "'''"
   ]
  },
  {
   "cell_type": "code",
   "execution_count": 276,
   "id": "ce36c904-5c40-40a5-adc8-14e2c5cb0c62",
   "metadata": {},
   "outputs": [
    {
     "data": {
      "text/plain": [
       "<re.Match object; span=(41, 56), match='+1-303-445-2377'>"
      ]
     },
     "execution_count": 276,
     "metadata": {},
     "output_type": "execute_result"
    }
   ],
   "source": [
    "re.search('\\+\\d-\\d\\d\\d-\\d\\d\\d-\\d\\d\\d\\d',sentences)"
   ]
  },
  {
   "cell_type": "code",
   "execution_count": 278,
   "id": "864d20a9-852f-4dc8-84f8-74753a0515eb",
   "metadata": {},
   "outputs": [
    {
     "data": {
      "text/plain": [
       "<re.Match object; span=(41, 56), match='+1-303-445-2377'>"
      ]
     },
     "execution_count": 278,
     "metadata": {},
     "output_type": "execute_result"
    }
   ],
   "source": [
    "re.search('\\+\\d-\\d{3}-\\d{3}-\\d{4}',sentences)"
   ]
  },
  {
   "cell_type": "code",
   "execution_count": 281,
   "id": "f12401e5-d6a2-496c-a4ef-2a0823a459e1",
   "metadata": {},
   "outputs": [
    {
     "data": {
      "text/plain": [
       "[<re.Match object; span=(41, 56), match='+1-303-445-2377'>]"
      ]
     },
     "execution_count": 281,
     "metadata": {},
     "output_type": "execute_result"
    }
   ],
   "source": [
    "list(re.finditer('\\+\\d-\\d{2,4}-\\d{3}-\\d{4}',sentences))"
   ]
  },
  {
   "cell_type": "code",
   "execution_count": 288,
   "id": "18eea240-ce42-4438-8729-8aff317cc898",
   "metadata": {},
   "outputs": [
    {
     "data": {
      "text/plain": [
       "[<re.Match object; span=(5, 17), match='323-449-2347'>,\n",
       " <re.Match object; span=(42, 51), match='1-303-445'>,\n",
       " <re.Match object; span=(79, 89), match='31-449-234'>]"
      ]
     },
     "execution_count": 288,
     "metadata": {},
     "output_type": "execute_result"
    }
   ],
   "source": [
    "list(re.finditer('\\d{1,4}-\\d{3}-\\d{3,4}',sentences))"
   ]
  },
  {
   "cell_type": "code",
   "execution_count": 290,
   "id": "05c58c5b-fcbd-48d5-bccb-f4d24fea4fe4",
   "metadata": {},
   "outputs": [],
   "source": [
    "sentences='''\n",
    "    323-449-2347 vin.kal@gmail.com \n",
    "    +1-303-445-2377  aks.45@yahoo.com\n",
    "    31-449-234  mahira.kalakuntla@hotmail.com\n",
    "    31-449.234\n",
    "'''"
   ]
  },
  {
   "cell_type": "code",
   "execution_count": 291,
   "id": "8b0e6db7-05e0-4e72-959a-98455fdb8fbb",
   "metadata": {},
   "outputs": [
    {
     "data": {
      "text/plain": [
       "[<re.Match object; span=(4, 17), match=' 323-449-2347'>,\n",
       " <re.Match object; span=(41, 51), match='+1-303-445'>,\n",
       " <re.Match object; span=(78, 89), match=' 31-449-234'>,\n",
       " <re.Match object; span=(124, 135), match=' 31-449.234'>]"
      ]
     },
     "execution_count": 291,
     "metadata": {},
     "output_type": "execute_result"
    }
   ],
   "source": [
    "list(re.finditer('.\\d{1,4}[-.]\\d{3}[-.]\\d{3,4}',sentences))  #[-.] means - or ."
   ]
  },
  {
   "cell_type": "code",
   "execution_count": null,
   "id": "ec8ac83c-972e-4525-b590-55b33987bec4",
   "metadata": {},
   "outputs": [],
   "source": [
    "list(re.finditer('.\\d{1,4}[-.]\\d{3}[-.]\\d{3,4}',sentences))  #[-.] means - or ."
   ]
  },
  {
   "cell_type": "raw",
   "id": "00f1e183-6048-4f87-a3b1-aa7a115c191a",
   "metadata": {},
   "source": [
    "{m}- exact m match\n",
    "{m,n} m to n \n",
    "+ one or more matches\n",
    "* 0 or more matches\n",
    "? 0 or 1 match\n"
   ]
  },
  {
   "cell_type": "code",
   "execution_count": 296,
   "id": "9420fa8a-b72f-472a-aac4-73e050e8c55a",
   "metadata": {},
   "outputs": [],
   "source": [
    "sentences='''\n",
    "    323-449-2347 vin.kal@gmail.com \n",
    "    +1-303-445-2377  aks.45@yahoo.com\n",
    "    32331-449-234  mahira.kalakuntla@hotmail.com\n",
    "    31-449.234\n",
    "    -449.234\n",
    "'''"
   ]
  },
  {
   "cell_type": "code",
   "execution_count": 297,
   "id": "f25e2f0c-c34b-4e6c-991e-e6bd7f0b7e6f",
   "metadata": {},
   "outputs": [
    {
     "data": {
      "text/plain": [
       "[<re.Match object; span=(4, 17), match=' 323-449-2347'>,\n",
       " <re.Match object; span=(41, 51), match='+1-303-445'>,\n",
       " <re.Match object; span=(78, 92), match=' 32331-449-234'>,\n",
       " <re.Match object; span=(127, 138), match=' 31-449.234'>]"
      ]
     },
     "execution_count": 297,
     "metadata": {},
     "output_type": "execute_result"
    }
   ],
   "source": [
    "list(re.finditer('.\\d+[-.]\\d{3}[-.]\\d{3,4}',sentences))  #[-.] means - or ."
   ]
  },
  {
   "cell_type": "code",
   "execution_count": 300,
   "id": "83e4b024-fae4-453b-a63b-61cb865e8d2f",
   "metadata": {},
   "outputs": [
    {
     "data": {
      "text/plain": [
       "[<re.Match object; span=(5, 17), match='323-449-2347'>,\n",
       " <re.Match object; span=(42, 51), match='1-303-445'>,\n",
       " <re.Match object; span=(79, 92), match='32331-449-234'>,\n",
       " <re.Match object; span=(128, 138), match='31-449.234'>,\n",
       " <re.Match object; span=(143, 151), match='-449.234'>]"
      ]
     },
     "execution_count": 300,
     "metadata": {},
     "output_type": "execute_result"
    }
   ],
   "source": [
    "list(re.finditer('\\d*[-.]\\d{3}[-.]\\d{3,4}',sentences))  #[-.] means - or ."
   ]
  },
  {
   "cell_type": "code",
   "execution_count": 301,
   "id": "f12bdc43-98db-435c-a2f9-04f6ccb15efb",
   "metadata": {},
   "outputs": [
    {
     "data": {
      "text/plain": [
       "[<re.Match object; span=(5, 17), match='323-449-2347'>,\n",
       " <re.Match object; span=(41, 51), match='+1-303-445'>,\n",
       " <re.Match object; span=(79, 92), match='32331-449-234'>,\n",
       " <re.Match object; span=(128, 138), match='31-449.234'>,\n",
       " <re.Match object; span=(143, 151), match='-449.234'>]"
      ]
     },
     "execution_count": 301,
     "metadata": {},
     "output_type": "execute_result"
    }
   ],
   "source": [
    "list(re.finditer('\\+?\\d*[-.]\\d{3}[-.]\\d{3,4}',sentences))  #lets include +1 also... ? mean 0 or 1"
   ]
  },
  {
   "cell_type": "code",
   "execution_count": 309,
   "id": "169b9de4-6fc3-4662-88b5-18bec15f3f5c",
   "metadata": {},
   "outputs": [],
   "source": [
    "sentences='''\n",
    "    323-449-2347 vin.kal@gmail.com \n",
    "    +1-303-445-2377  aks.45@yahoo.com\n",
    "    32331-449-234  mahira.kalakuntla@hotmail.com\n",
    "    31-449.234 mahir_untla@hotmail.com\n",
    "    -449.234  _@jhg.com\n",
    "'''"
   ]
  },
  {
   "cell_type": "code",
   "execution_count": 312,
   "id": "7c5f0019-3002-4f42-b530-02debae4f040",
   "metadata": {},
   "outputs": [
    {
     "data": {
      "text/plain": [
       "[<re.Match object; span=(18, 35), match='vin.kal@gmail.com'>,\n",
       " <re.Match object; span=(58, 74), match='aks.45@yahoo.com'>,\n",
       " <re.Match object; span=(94, 123), match='mahira.kalakuntla@hotmail.com'>,\n",
       " <re.Match object; span=(139, 162), match='mahir_untla@hotmail.com'>,\n",
       " <re.Match object; span=(177, 186), match='_@jhg.com'>]"
      ]
     },
     "execution_count": 312,
     "metadata": {},
     "output_type": "execute_result"
    }
   ],
   "source": [
    "# list(re.finditer('\\+?\\d*[-.]\\d{3}[-.]\\d{3,4}',sentences))  \n",
    "list(re.finditer('\\w*\\.?\\w*@\\w*.com',sentences))  "
   ]
  },
  {
   "cell_type": "code",
   "execution_count": 313,
   "id": "c392da54-0a19-4097-944c-73aae74850e4",
   "metadata": {},
   "outputs": [
    {
     "data": {
      "text/plain": [
       "[<re.Match object; span=(18, 35), match='vin.kal@gmail.com'>,\n",
       " <re.Match object; span=(58, 74), match='aks.45@yahoo.com'>,\n",
       " <re.Match object; span=(94, 123), match='mahira.kalakuntla@hotmail.com'>,\n",
       " <re.Match object; span=(139, 162), match='mahir_untla@hotmail.com'>]"
      ]
     },
     "execution_count": 313,
     "metadata": {},
     "output_type": "execute_result"
    }
   ],
   "source": [
    "# _@ is not valid so try below \n",
    "\n",
    "list(re.finditer('[a-zA-Z]+[.\\w]+@[\\w]+.[a-z]{2,}',sentences))  # now, the invalid email is removed"
   ]
  },
  {
   "cell_type": "code",
   "execution_count": 314,
   "id": "b016dcc0-07d0-47eb-8e5d-f520435f70ff",
   "metadata": {},
   "outputs": [
    {
     "name": "stdout",
     "output_type": "stream",
     "text": [
      "<re.Match object; span=(18, 35), match='vin.kal@gmail.com'>\n",
      "<re.Match object; span=(58, 74), match='aks.45@yahoo.com'>\n",
      "<re.Match object; span=(94, 123), match='mahira.kalakuntla@hotmail.com'>\n",
      "<re.Match object; span=(139, 162), match='mahir_untla@hotmail.com'>\n"
     ]
    }
   ],
   "source": [
    "pattern=re.compile('[a-zA-Z]+[.\\w]+@[\\w]+.[a-z]{2,}')\n",
    "matches=pattern.finditer(sentences)\n",
    "\n",
    "for match in matches:\n",
    "    print(match)"
   ]
  },
  {
   "cell_type": "code",
   "execution_count": 321,
   "id": "4dd391ca-cf87-4410-a375-c2bfc33c8d47",
   "metadata": {},
   "outputs": [
    {
     "data": {
      "text/plain": [
       "[<re.Match object; span=(5, 52), match='Mr. Michael\\n    Mr Smith\\n    Ms Kritika\\n    Mr>,\n",
       " <re.Match object; span=(69, 81), match='Mr. T\\n    Ms'>]"
      ]
     },
     "execution_count": 321,
     "metadata": {},
     "output_type": "execute_result"
    }
   ],
   "source": [
    "# list(re.finditer('Mr.[\\s\\w]+',sentence)) "
   ]
  },
  {
   "cell_type": "code",
   "execution_count": 338,
   "id": "224fdb33-fcdb-464f-867f-b9d45e970c19",
   "metadata": {},
   "outputs": [],
   "source": [
    "# Capture male and female seperately\n",
    "\n",
    "sentence = '''\n",
    "    Mr. Michael\n",
    "    Mr Smith\n",
    "    Ms Kritika\n",
    "    Mrs. Jacqueline\n",
    "    Mr. T\n",
    "    Ms. Leena\n",
    "    '''\n",
    "\n",
    "\n"
   ]
  },
  {
   "cell_type": "code",
   "execution_count": 339,
   "id": "5a7a6997-e799-47cb-b8da-6ae91770a73f",
   "metadata": {},
   "outputs": [
    {
     "name": "stdout",
     "output_type": "stream",
     "text": [
      "<re.Match object; span=(5, 16), match='Mr. Michael'>\n",
      "<re.Match object; span=(21, 29), match='Mr Smith'>\n",
      "<re.Match object; span=(69, 74), match='Mr. T'>\n"
     ]
    }
   ],
   "source": [
    "pattern=re.compile('Mr\\.?\\s[A-Z][a-z]*')\n",
    "matchesMale=pattern.finditer(sentence)\n",
    "\n",
    "for match in matchesMale:\n",
    "    print(match)"
   ]
  },
  {
   "cell_type": "code",
   "execution_count": 344,
   "id": "b620e50b-9dbe-4e7e-94d6-36a3487a3a55",
   "metadata": {},
   "outputs": [],
   "source": [
    "phonenumbers = '''\n",
    "    0091 91919345\n",
    "    +4 12093487\n",
    "    092 7832109 (40)\n",
    "    00966-5021842\n",
    "'''\n"
   ]
  },
  {
   "cell_type": "code",
   "execution_count": 357,
   "id": "096fadd5-c519-4ae5-a055-2a02559dd88d",
   "metadata": {},
   "outputs": [
    {
     "name": "stdout",
     "output_type": "stream",
     "text": [
      "<re.Match object; span=(5, 18), match='0091 91919345'>\n",
      "<re.Match object; span=(23, 34), match='+4 12093487'>\n",
      "<re.Match object; span=(39, 50), match='092 7832109'>\n",
      "<re.Match object; span=(60, 73), match='00966-5021842'>\n"
     ]
    }
   ],
   "source": [
    "pattern=re.compile('(09|009|\\+)\\d*[\\s-]\\d*')  #my ans\n",
    "matchesMale=pattern.finditer(phonenumbers)\n",
    "\n",
    "for match in matchesMale:\n",
    "    print(match)"
   ]
  },
  {
   "cell_type": "code",
   "execution_count": 376,
   "id": "f20308ec-3d07-49ee-aab5-d08c9db5c8ac",
   "metadata": {},
   "outputs": [
    {
     "name": "stdout",
     "output_type": "stream",
     "text": [
      "0091 91919345 None\n",
      "+4 12093487 None\n",
      "092 7832109  (40)\n",
      "00966 5021842 None\n"
     ]
    }
   ],
   "source": [
    "pattern=re.compile('(\\+?\\d+)[\\s-]?(\\d+)(\\s\\(\\d{2}\\))?')\n",
    "matchesMale=pattern.finditer(phonenumbers)\n",
    "\n",
    "for match in matchesMale:\n",
    "    print(match[1],match[2],match[3])     #country code,ph number, extension"
   ]
  },
  {
   "cell_type": "code",
   "execution_count": 335,
   "id": "1d447de4-bb17-4459-a7e2-a847cd5c0756",
   "metadata": {},
   "outputs": [
    {
     "name": "stdout",
     "output_type": "stream",
     "text": [
      "<re.Match object; span=(34, 44), match='Ms Kritika'>\n",
      "<re.Match object; span=(49, 64), match='Mrs. Jacqueline'>\n",
      "<re.Match object; span=(79, 88), match='Ms. Leena'>\n"
     ]
    }
   ],
   "source": [
    "pattern=re.compile('M(rs|s)\\.?\\s[A-Z][a-z]+')\n",
    "matchesF=pattern.finditer(sentence)\n",
    "\n",
    "for match in matchesF:\n",
    "    print(match)"
   ]
  },
  {
   "cell_type": "code",
   "execution_count": null,
   "id": "f3dcb467-0811-4432-b293-4b3082d44129",
   "metadata": {},
   "outputs": [],
   "source": []
  },
  {
   "cell_type": "code",
   "execution_count": 336,
   "id": "654ab971-1c9d-41e3-b614-7e3c7acb961e",
   "metadata": {},
   "outputs": [
    {
     "name": "stdout",
     "output_type": "stream",
     "text": [
      "<re.Match object; span=(34, 44), match='Ms Kritika'>\n",
      "<re.Match object; span=(49, 64), match='Mrs. Jacqueline'>\n",
      "<re.Match object; span=(79, 88), match='Ms. Leena'>\n"
     ]
    }
   ],
   "source": [
    "pattern=re.compile('M(rs|s)\\.?\\s[A-Z]\\w+')\n",
    "matchesF=pattern.finditer(sentence)\n",
    "\n",
    "for match in matchesF:\n",
    "    print(match)"
   ]
  },
  {
   "cell_type": "code",
   "execution_count": 337,
   "id": "09553048-abf6-4489-841e-2e02cb2a28ed",
   "metadata": {},
   "outputs": [
    {
     "data": {
      "text/plain": [
       "[<re.Match object; span=(3, 4), match='l'>,\n",
       " <re.Match object; span=(4, 5), match='e'>,\n",
       " <re.Match object; span=(5, 6), match=' '>,\n",
       " <re.Match object; span=(6, 7), match='a'>,\n",
       " <re.Match object; span=(7, 8), match=' '>,\n",
       " <re.Match object; span=(8, 9), match='d'>,\n",
       " <re.Match object; span=(9, 10), match='a'>,\n",
       " <re.Match object; span=(10, 11), match='y'>,\n",
       " <re.Match object; span=(11, 12), match=' '>,\n",
       " <re.Match object; span=(12, 13), match='k'>,\n",
       " <re.Match object; span=(13, 14), match='e'>,\n",
       " <re.Match object; span=(14, 15), match='e'>,\n",
       " <re.Match object; span=(16, 17), match='s'>,\n",
       " <re.Match object; span=(17, 18), match=' '>,\n",
       " <re.Match object; span=(18, 19), match='a'>,\n",
       " <re.Match object; span=(19, 20), match='w'>,\n",
       " <re.Match object; span=(20, 21), match='a'>,\n",
       " <re.Match object; span=(21, 22), match='y'>]"
      ]
     },
     "execution_count": 337,
     "metadata": {},
     "output_type": "execute_result"
    }
   ],
   "source": [
    "list(re.finditer('[^App]', 'Apple a day keeps away'))  #exxclude App"
   ]
  },
  {
   "cell_type": "code",
   "execution_count": null,
   "id": "b31b2f8b-4400-4d9b-925c-62d98c0555af",
   "metadata": {},
   "outputs": [],
   "source": []
  },
  {
   "cell_type": "code",
   "execution_count": null,
   "id": "cb14cc0f-4631-492e-8a64-5eac01ca83db",
   "metadata": {},
   "outputs": [],
   "source": []
  },
  {
   "cell_type": "markdown",
   "id": "7fd67cc1-5286-4c04-997e-3047c9b67ad9",
   "metadata": {},
   "source": [
    "Raw Text -- Cleaning and pre processing -- tokenisation -- text transformation(bridge between NLP and  AI ML) -- modelling -- evaluation"
   ]
  },
  {
   "cell_type": "markdown",
   "id": "eddf70bf-8db8-4fcb-bc54-6bf8a115aa82",
   "metadata": {},
   "source": [
    "ONE HOT representation of string"
   ]
  },
  {
   "cell_type": "code",
   "execution_count": 395,
   "id": "7793ef3d-115a-4f32-b0f1-26352410209e",
   "metadata": {},
   "outputs": [
    {
     "name": "stdout",
     "output_type": "stream",
     "text": [
      "['dog', 'bites', 'man']\n"
     ]
    }
   ],
   "source": []
  },
  {
   "cell_type": "code",
   "execution_count": 380,
   "id": "2f1261f8-2a01-4c15-8240-6c6f1fbf268b",
   "metadata": {},
   "outputs": [
    {
     "ename": "NameError",
     "evalue": "name 'dog' is not defined",
     "output_type": "error",
     "traceback": [
      "\u001b[1;31m---------------------------------------------------------------------------\u001b[0m",
      "\u001b[1;31mNameError\u001b[0m                                 Traceback (most recent call last)",
      "Input \u001b[1;32mIn [380]\u001b[0m, in \u001b[0;36m<cell line: 1>\u001b[1;34m()\u001b[0m\n\u001b[1;32m----> 1\u001b[0m vocab\u001b[38;5;241m=\u001b[39m{\u001b[43mdog\u001b[49m: \u001b[38;5;241m0\u001b[39m ,bites: \u001b[38;5;241m1\u001b[39m ,man: \u001b[38;5;241m2\u001b[39m }\n",
      "\u001b[1;31mNameError\u001b[0m: name 'dog' is not defined"
     ]
    }
   ],
   "source": [
    "vocab={dog: 0 ,bites: 1 ,man: 2 }"
   ]
  },
  {
   "cell_type": "code",
   "execution_count": 404,
   "id": "e9549571-9a3d-4a52-9f59-2da9503feec8",
   "metadata": {},
   "outputs": [],
   "source": [
    "def my_func(a):\n",
    "    vocab={}\n",
    "    count=0\n",
    "    \n",
    "    for stat in a:\n",
    "        for word in stat.split():\n",
    "            if word not in vocab:\n",
    "                vocab[word.lower()] =count\n",
    "                count=count+1\n",
    "    return vocab\n",
    "\n",
    "    onehotencoded=[]\n",
    "            "
   ]
  },
  {
   "cell_type": "code",
   "execution_count": 405,
   "id": "508be70c-3cbf-429a-a78f-d488ef23c7d7",
   "metadata": {},
   "outputs": [
    {
     "data": {
      "text/plain": [
       "{'dog': 0, 'bites': 1, 'man': 2}"
      ]
     },
     "execution_count": 405,
     "metadata": {},
     "output_type": "execute_result"
    }
   ],
   "source": [
    "my_func(['dog bites man','man bites dog'])"
   ]
  },
  {
   "cell_type": "code",
   "execution_count": 450,
   "id": "59d8d102-f743-46fa-885c-b3b7f128f828",
   "metadata": {},
   "outputs": [],
   "source": [
    "def get_ohe(list_of_strings):\n",
    "    vocab = {}\n",
    "    count=0\n",
    "    for i in list_of_strings:\n",
    "        for word in i.split():\n",
    "            if word.lower() not in vocab:\n",
    "                vocab[word.lower()]=count\n",
    "                count = count + 1\n",
    "    onehotencoded_sent=[] \n",
    "    for sentences in list_of_strings:                   \n",
    "        onehotencoded_words = []\n",
    "        for word in sentences.split():\n",
    "            temp = [0]*len(vocab)\n",
    "            \n",
    "            if word.lower() in vocab:\n",
    "                temp[vocab[word.lower()]] = 1\n",
    "                # print(vocab[word.lower()])\n",
    "                print(temp)\n",
    "            onehotencoded_words.extend(temp)\n",
    "            # print(word ,  onehotencoded_words)\n",
    "        onehotencoded_sent.append(onehotencoded_words)\n",
    "            \n",
    "    return vocab,   list(zip(list_of_strings,onehotencoded_sent))\n",
    "\n",
    "\n",
    "\n",
    "\n",
    "\n",
    "\n"
   ]
  },
  {
   "cell_type": "code",
   "execution_count": 451,
   "id": "ad79a58e-8e78-4c02-bb1b-a1006c54cb44",
   "metadata": {},
   "outputs": [
    {
     "name": "stdout",
     "output_type": "stream",
     "text": [
      "[1, 0, 0]\n",
      "[0, 1, 0]\n",
      "[0, 0, 1]\n",
      "[0, 0, 1]\n",
      "[0, 1, 0]\n",
      "[1, 0, 0]\n"
     ]
    },
    {
     "data": {
      "text/plain": [
       "({'dog': 0, 'bites': 1, 'man': 2},\n",
       " [('dog bites man', [1, 0, 0, 0, 1, 0, 0, 0, 1]),\n",
       "  ('man bites dog', [0, 0, 1, 0, 1, 0, 1, 0, 0])])"
      ]
     },
     "execution_count": 451,
     "metadata": {},
     "output_type": "execute_result"
    }
   ],
   "source": [
    "get_ohe(['dog bites man','man bites dog'])"
   ]
  },
  {
   "cell_type": "code",
   "execution_count": null,
   "id": "659fe9cc-7e8a-4d40-9acf-5f93d4d92bb2",
   "metadata": {},
   "outputs": [],
   "source": []
  },
  {
   "cell_type": "raw",
   "id": "86454eeb-07c7-4b4d-bf3c-e9bcbb44b013",
   "metadata": {},
   "source": [
    "BAF OF WORDS"
   ]
  },
  {
   "cell_type": "code",
   "execution_count": 443,
   "id": "2ab06231-1759-48ec-8931-65825e114967",
   "metadata": {},
   "outputs": [],
   "source": [
    "vocab = {'dog':0, 'bites':1 , 'man':2, 'eats': 3, 'meat' :4}"
   ]
  },
  {
   "cell_type": "code",
   "execution_count": 456,
   "id": "e4ef3f43-aa47-4b11-b493-4ace9266da83",
   "metadata": {},
   "outputs": [],
   "source": [
    "def get_bow(list_of_strings):\n",
    "    vocab = {}\n",
    "    count=0\n",
    "    for i in list_of_strings:\n",
    "        for word in i.split():\n",
    "            if word.lower() not in vocab:\n",
    "                vocab[word.lower()]=count\n",
    "                count = count + 1\n",
    "    onehotencoded_sent=[] \n",
    "    for sentences in list_of_strings:                   \n",
    "        # onehotencoded_words = []\n",
    "        temp = [0]*len(vocab)\n",
    "        for word in sentences.split():\n",
    "            if word.lower() in vocab:\n",
    "                temp[vocab[word.lower()]]+= 1\n",
    "                \n",
    "        onehotencoded_sent.append(temp)\n",
    "            \n",
    "    return vocab,   list(zip(list_of_strings,onehotencoded_sent))\n",
    "\n",
    "\n",
    "\n",
    "\n",
    "\n",
    "\n"
   ]
  },
  {
   "cell_type": "code",
   "execution_count": 457,
   "id": "f1c11f29-be43-4c76-b2bd-40ec50a54243",
   "metadata": {},
   "outputs": [
    {
     "data": {
      "text/plain": [
       "({'dog': 0, 'bites': 1, 'man': 2},\n",
       " [('dog bites man', [1, 1, 1]), ('man bites dog', [1, 1, 1])])"
      ]
     },
     "execution_count": 457,
     "metadata": {},
     "output_type": "execute_result"
    }
   ],
   "source": [
    "get_bow(['dog bites man','man bites dog'])"
   ]
  },
  {
   "cell_type": "code",
   "execution_count": null,
   "id": "ef85d9b2-22b1-42f4-9034-e86340e8f0ba",
   "metadata": {},
   "outputs": [],
   "source": []
  },
  {
   "cell_type": "code",
   "execution_count": null,
   "id": "5f6f4508-0de2-4016-ae22-023138617cf4",
   "metadata": {},
   "outputs": [],
   "source": []
  },
  {
   "cell_type": "markdown",
   "id": "b31c2837-aeef-4405-bdc4-9c6570a1333d",
   "metadata": {},
   "source": [
    "\n",
    "\n",
    "## Ready made function of bag of words (BOW)"
   ]
  },
  {
   "cell_type": "code",
   "execution_count": 503,
   "id": "880753df-6083-4312-a6ca-eb3568b9d6dc",
   "metadata": {},
   "outputs": [],
   "source": [
    "my_corpus=(['dog bites man. man is kind to dog','man bites dog. god loves man','Dog and man are friends. dog is kind man'])"
   ]
  },
  {
   "cell_type": "code",
   "execution_count": 519,
   "id": "5930e3ea-8c0d-4724-b1fe-80df0d9c2a18",
   "metadata": {},
   "outputs": [],
   "source": [
    "from sklearn.feature_extraction.text import CountVectorizer"
   ]
  },
  {
   "cell_type": "code",
   "execution_count": 520,
   "id": "151ac6d3-ac34-44bd-859c-ae0125c043b3",
   "metadata": {},
   "outputs": [],
   "source": [
    "my_vectorizer=CountVectorizer()\n"
   ]
  },
  {
   "cell_type": "code",
   "execution_count": 512,
   "id": "15db7a20-871a-480d-8029-9b27c7279fc9",
   "metadata": {},
   "outputs": [],
   "source": [
    "\n",
    "my_vectorizer_rep= my_vectorizer.fit_transform(my_corpus)"
   ]
  },
  {
   "cell_type": "code",
   "execution_count": 513,
   "id": "7eb7da68-5f56-48bf-963f-088c2486c6d1",
   "metadata": {},
   "outputs": [
    {
     "data": {
      "text/plain": [
       "{'dog': 3,\n",
       " 'bites': 2,\n",
       " 'man': 9,\n",
       " 'is': 6,\n",
       " 'kind': 7,\n",
       " 'to': 10,\n",
       " 'god': 5,\n",
       " 'loves': 8,\n",
       " 'and': 0,\n",
       " 'are': 1,\n",
       " 'friends': 4}"
      ]
     },
     "execution_count": 513,
     "metadata": {},
     "output_type": "execute_result"
    }
   ],
   "source": [
    "my_vectorizer.vocabulary_"
   ]
  },
  {
   "cell_type": "code",
   "execution_count": null,
   "id": "ebe2d99e-350b-4ab3-9106-b842f21c6208",
   "metadata": {},
   "outputs": [],
   "source": []
  },
  {
   "cell_type": "code",
   "execution_count": 514,
   "id": "e83ad34e-8393-41bf-b70d-3980e732fe91",
   "metadata": {},
   "outputs": [
    {
     "data": {
      "text/plain": [
       "array([[0, 1, 0, 1, 1, 0, 0, 0, 0, 0, 0]], dtype=int64)"
      ]
     },
     "execution_count": 514,
     "metadata": {},
     "output_type": "execute_result"
    }
   ],
   "source": [
    "my_vectorizer.transform(['Dog are friends']).toarray()"
   ]
  },
  {
   "cell_type": "code",
   "execution_count": 515,
   "id": "6c6a39c9-f6fa-4f88-9683-db1bd5035583",
   "metadata": {},
   "outputs": [
    {
     "data": {
      "text/plain": [
       "array([[0, 0, 1, 2, 0, 0, 1, 1, 0, 2, 1],\n",
       "       [0, 0, 1, 1, 0, 1, 0, 0, 1, 2, 0],\n",
       "       [1, 1, 0, 2, 1, 0, 1, 1, 0, 2, 0]], dtype=int64)"
      ]
     },
     "execution_count": 515,
     "metadata": {},
     "output_type": "execute_result"
    }
   ],
   "source": [
    "my_vectorizer.transform(my_corpus).toarray()"
   ]
  },
  {
   "cell_type": "code",
   "execution_count": 516,
   "id": "0b5a9493-e3de-4519-b616-bdbaba1115a8",
   "metadata": {},
   "outputs": [
    {
     "data": {
      "text/plain": [
       "[('dog bites man. man is kind to dog',\n",
       "  array([0, 0, 1, 2, 0, 0, 1, 1, 0, 2, 1], dtype=int64)),\n",
       " ('man bites dog. god loves man',\n",
       "  array([0, 0, 1, 1, 0, 1, 0, 0, 1, 2, 0], dtype=int64)),\n",
       " ('Dog and man are friends. dog is kind man',\n",
       "  array([1, 1, 0, 2, 1, 0, 1, 1, 0, 2, 0], dtype=int64))]"
      ]
     },
     "execution_count": 516,
     "metadata": {},
     "output_type": "execute_result"
    }
   ],
   "source": [
    "list(zip(my_corpus, my_vectorizer.transform(my_corpus).toarray()))"
   ]
  },
  {
   "cell_type": "code",
   "execution_count": 518,
   "id": "0f58322c-ac75-497f-8c73-737991c1073c",
   "metadata": {},
   "outputs": [
    {
     "data": {
      "text/plain": [
       "array([[1, 1, 0, 2, 1, 0, 1, 1, 0, 2, 0]], dtype=int64)"
      ]
     },
     "execution_count": 518,
     "metadata": {},
     "output_type": "execute_result"
    }
   ],
   "source": [
    "my_vectorizer_rep[2].toarray()"
   ]
  },
  {
   "cell_type": "markdown",
   "id": "07f6191d-46ff-49c0-9c6b-681133dda013",
   "metadata": {},
   "source": [
    "## If we are looking only for present of word, use binary = true"
   ]
  },
  {
   "cell_type": "code",
   "execution_count": 524,
   "id": "8d8f3189-3bee-4e76-a751-549b7b68ad22",
   "metadata": {},
   "outputs": [],
   "source": [
    "my_corpus=(['dog bites man. man is kind to dog','man bites dog. god loves man','Dog and man are friends. dog is kind man'])"
   ]
  },
  {
   "cell_type": "code",
   "execution_count": 525,
   "id": "058aa1eb-04f7-41b6-824b-c1587d5e72d3",
   "metadata": {},
   "outputs": [],
   "source": [
    "from sklearn.feature_extraction.text import CountVectorizer"
   ]
  },
  {
   "cell_type": "code",
   "execution_count": 526,
   "id": "d2c639d3-c136-4a34-a6d0-1586db3e2188",
   "metadata": {},
   "outputs": [],
   "source": [
    "my_vectorizer=CountVectorizer(binary=True)\n"
   ]
  },
  {
   "cell_type": "code",
   "execution_count": 527,
   "id": "f054c1e2-84ac-4f8f-a88a-1ea7f3ec8a8c",
   "metadata": {},
   "outputs": [],
   "source": [
    "\n",
    "my_vectorizer_rep= my_vectorizer.fit_transform(my_corpus)"
   ]
  },
  {
   "cell_type": "code",
   "execution_count": 528,
   "id": "9bd2b400-61b6-442c-b3a4-dac9b1dd2911",
   "metadata": {},
   "outputs": [
    {
     "data": {
      "text/plain": [
       "{'dog': 3,\n",
       " 'bites': 2,\n",
       " 'man': 9,\n",
       " 'is': 6,\n",
       " 'kind': 7,\n",
       " 'to': 10,\n",
       " 'god': 5,\n",
       " 'loves': 8,\n",
       " 'and': 0,\n",
       " 'are': 1,\n",
       " 'friends': 4}"
      ]
     },
     "execution_count": 528,
     "metadata": {},
     "output_type": "execute_result"
    }
   ],
   "source": [
    "my_vectorizer.vocabulary_"
   ]
  },
  {
   "cell_type": "code",
   "execution_count": 529,
   "id": "90ecd7b7-a2d2-4929-b136-e796efd0b890",
   "metadata": {},
   "outputs": [
    {
     "data": {
      "text/plain": [
       "array([[0, 1, 0, 1, 1, 0, 0, 0, 0, 0, 0]], dtype=int64)"
      ]
     },
     "execution_count": 529,
     "metadata": {},
     "output_type": "execute_result"
    }
   ],
   "source": [
    "my_vectorizer.transform(['Dog are friends']).toarray()"
   ]
  },
  {
   "cell_type": "code",
   "execution_count": 530,
   "id": "92487abc-de0e-4d26-b7aa-6fa74e3799b1",
   "metadata": {},
   "outputs": [
    {
     "data": {
      "text/plain": [
       "array([[0, 0, 1, 1, 0, 0, 1, 1, 0, 1, 1],\n",
       "       [0, 0, 1, 1, 0, 1, 0, 0, 1, 1, 0],\n",
       "       [1, 1, 0, 1, 1, 0, 1, 1, 0, 1, 0]], dtype=int64)"
      ]
     },
     "execution_count": 530,
     "metadata": {},
     "output_type": "execute_result"
    }
   ],
   "source": [
    "my_vectorizer.transform(my_corpus).toarray()"
   ]
  },
  {
   "cell_type": "code",
   "execution_count": 531,
   "id": "79fa2781-cc09-4bad-8266-3e3b8edb05d1",
   "metadata": {},
   "outputs": [
    {
     "data": {
      "text/plain": [
       "[('dog bites man. man is kind to dog',\n",
       "  array([0, 0, 1, 1, 0, 0, 1, 1, 0, 1, 1], dtype=int64)),\n",
       " ('man bites dog. god loves man',\n",
       "  array([0, 0, 1, 1, 0, 1, 0, 0, 1, 1, 0], dtype=int64)),\n",
       " ('Dog and man are friends. dog is kind man',\n",
       "  array([1, 1, 0, 1, 1, 0, 1, 1, 0, 1, 0], dtype=int64))]"
      ]
     },
     "execution_count": 531,
     "metadata": {},
     "output_type": "execute_result"
    }
   ],
   "source": [
    "list(zip(my_corpus, my_vectorizer.transform(my_corpus).toarray()))"
   ]
  },
  {
   "cell_type": "markdown",
   "id": "6e5fdbc1-cd0f-4567-a1f1-17b09140306a",
   "metadata": {},
   "source": [
    "# Ngrams   - Ngrams capture context by capturing adjecent words \n"
   ]
  },
  {
   "cell_type": "code",
   "execution_count": 540,
   "id": "382e331e-5bec-4a99-99b4-2b5b6dbd5678",
   "metadata": {},
   "outputs": [],
   "source": [
    "import nltk"
   ]
  },
  {
   "cell_type": "code",
   "execution_count": 532,
   "id": "8b6ca0ee-5e0b-4c56-9f2d-6f1a52bca8a0",
   "metadata": {},
   "outputs": [
    {
     "data": {
      "text/plain": [
       "[('I', 'am'), ('am', 'Happy')]"
      ]
     },
     "execution_count": 532,
     "metadata": {},
     "output_type": "execute_result"
    }
   ],
   "source": [
    "list(nltk.ngrams(nltk.tokenize.word_tokenize('I am Happy'),n=2))"
   ]
  },
  {
   "cell_type": "code",
   "execution_count": 535,
   "id": "769ba90f-6913-49fa-9018-48255913cf6a",
   "metadata": {},
   "outputs": [
    {
     "data": {
      "text/plain": [
       "[('This', 'page', 'should', 'work'),\n",
       " ('page', 'should', 'work', 'with'),\n",
       " ('should', 'work', 'with', 'any'),\n",
       " ('work', 'with', 'any', 'browser'),\n",
       " ('with', 'any', 'browser', 'that'),\n",
       " ('any', 'browser', 'that', 'obeys'),\n",
       " ('browser', 'that', 'obeys', 'the'),\n",
       " ('that', 'obeys', 'the', 'DOM'),\n",
       " ('obeys', 'the', 'DOM', ','),\n",
       " ('the', 'DOM', ',', 'and'),\n",
       " ('DOM', ',', 'and', 'Internet'),\n",
       " (',', 'and', 'Internet', 'Explorer')]"
      ]
     },
     "execution_count": 535,
     "metadata": {},
     "output_type": "execute_result"
    }
   ],
   "source": [
    "\n",
    "\n",
    "list(nltk.ngrams(nltk.tokenize.word_tokenize(' This page should work with any browser that obeys the DOM, and Internet Explorer'),n=4))"
   ]
  },
  {
   "cell_type": "code",
   "execution_count": 541,
   "id": "61f7d1c8-0dd8-45ab-b545-2ab4d9ac148e",
   "metadata": {},
   "outputs": [],
   "source": [
    "my_corpus=(['dog bites man. man is kind to dog','man bites dog. god loves man','Dog and man are friends. dog is kind man'])"
   ]
  },
  {
   "cell_type": "code",
   "execution_count": 554,
   "id": "d3293601-90ae-4765-8578-0c2cf3ca86ed",
   "metadata": {},
   "outputs": [
    {
     "data": {
      "text/plain": [
       "{'dog': 11,\n",
       " 'bites': 6,\n",
       " 'man': 36,\n",
       " 'is': 26,\n",
       " 'kind': 30,\n",
       " 'to': 45,\n",
       " 'dog bites': 14,\n",
       " 'bites man': 9,\n",
       " 'man man': 43,\n",
       " 'man is': 41,\n",
       " 'is kind': 27,\n",
       " 'kind to': 32,\n",
       " 'to dog': 46,\n",
       " 'dog bites man': 15,\n",
       " 'bites man man': 10,\n",
       " 'man man is': 44,\n",
       " 'man is kind': 42,\n",
       " 'is kind to': 29,\n",
       " 'kind to dog': 33,\n",
       " 'god': 23,\n",
       " 'loves': 34,\n",
       " 'man bites': 39,\n",
       " 'bites dog': 7,\n",
       " 'dog god': 16,\n",
       " 'god loves': 24,\n",
       " 'loves man': 35,\n",
       " 'man bites dog': 40,\n",
       " 'bites dog god': 8,\n",
       " 'dog god loves': 17,\n",
       " 'god loves man': 25,\n",
       " 'and': 0,\n",
       " 'are': 3,\n",
       " 'friends': 20,\n",
       " 'dog and': 12,\n",
       " 'and man': 1,\n",
       " 'man are': 37,\n",
       " 'are friends': 4,\n",
       " 'friends dog': 21,\n",
       " 'dog is': 18,\n",
       " 'kind man': 31,\n",
       " 'dog and man': 13,\n",
       " 'and man are': 2,\n",
       " 'man are friends': 38,\n",
       " 'are friends dog': 5,\n",
       " 'friends dog is': 22,\n",
       " 'dog is kind': 19,\n",
       " 'is kind man': 28}"
      ]
     },
     "execution_count": 554,
     "metadata": {},
     "output_type": "execute_result"
    }
   ],
   "source": [
    "my_vectorizer=CountVectorizer(ngram_range=(1,3))\n",
    "\n",
    "my_vectorizer_rep= my_vectorizer.fit_transform(my_corpus)\n",
    "\n",
    "my_vectorizer.vocabulary_"
   ]
  },
  {
   "cell_type": "code",
   "execution_count": 553,
   "id": "fb966f64-9b35-4b98-8f73-1eca80d046fd",
   "metadata": {},
   "outputs": [
    {
     "data": {
      "text/plain": [
       "array([[1, 1, 0, 0, 0, 0, 0, 0, 1, 1, 0, 0, 0, 0, 0, 0, 0, 0, 0, 0, 0, 0,\n",
       "        0, 0, 0, 0, 0, 1, 0, 0, 0, 0, 0, 0, 0, 0]], dtype=int64)"
      ]
     },
     "execution_count": 553,
     "metadata": {},
     "output_type": "execute_result"
    }
   ],
   "source": [
    "my_vectorizer.transform(['Dog and man are dog with dog']).toarray()"
   ]
  },
  {
   "cell_type": "code",
   "execution_count": 558,
   "id": "d4e8b389-2dd7-4ebf-bb4c-9d8f2b16faf6",
   "metadata": {},
   "outputs": [
    {
     "data": {
      "text/plain": [
       "array([[0, 0, 0, 0, 0, 0, 1, 0, 0, 1, 0, 1, 0, 0, 1, 1, 0, 0, 0, 0, 0, 0,\n",
       "        0, 0, 0, 0, 0, 0, 0, 0, 0, 0, 0, 0, 0, 0, 1, 0, 0, 0, 0, 0, 0, 0,\n",
       "        0, 0, 0],\n",
       "       [0, 0, 0, 0, 0, 0, 1, 1, 0, 0, 0, 1, 0, 0, 0, 0, 0, 0, 0, 0, 0, 0,\n",
       "        0, 0, 0, 0, 0, 0, 0, 0, 0, 0, 0, 0, 0, 0, 1, 0, 0, 1, 1, 0, 0, 0,\n",
       "        0, 0, 0]], dtype=int64)"
      ]
     },
     "execution_count": 558,
     "metadata": {},
     "output_type": "execute_result"
    }
   ],
   "source": [
    "my_vectorizer.transform(['Dog bites man','man bites dog']).toarray()  # see here the arrays are different - captured as different arrays. \n",
    "#In BOW, you will see same representation of arrays but NGram fied this issue by taking adjacent words- context"
   ]
  },
  {
   "cell_type": "code",
   "execution_count": null,
   "id": "21136b2e-9786-437d-bd5a-93bc68a2b84f",
   "metadata": {},
   "outputs": [],
   "source": []
  },
  {
   "cell_type": "markdown",
   "id": "e5b398d7-0622-4513-9af4-35bbad190615",
   "metadata": {},
   "source": [
    "\n",
    "## TfIdf  imp of word considered  compared to other words "
   ]
  },
  {
   "cell_type": "code",
   "execution_count": 561,
   "id": "a0afc1a7-ac35-477f-b5bc-c3f673de0d5b",
   "metadata": {},
   "outputs": [],
   "source": [
    "from sklearn.feature_extraction.text import TfidfVectorizer"
   ]
  },
  {
   "cell_type": "code",
   "execution_count": 562,
   "id": "8bbe80d1-2768-45e9-997f-279d690e18ea",
   "metadata": {},
   "outputs": [],
   "source": [
    "tfidf=TfidfVectorizer()"
   ]
  },
  {
   "cell_type": "code",
   "execution_count": 578,
   "id": "f476639c-39f1-465e-be1d-0c23f4fc86de",
   "metadata": {},
   "outputs": [],
   "source": [
    "my_corpus=(['dog bites man great. man is kind to dog','man bites dog. god loves man','Dog and man are friends. dog is kind man'])"
   ]
  },
  {
   "cell_type": "code",
   "execution_count": 579,
   "id": "a22acef6-d350-48a5-a10b-f909d140b1a0",
   "metadata": {},
   "outputs": [
    {
     "data": {
      "text/plain": [
       "<3x12 sparse matrix of type '<class 'numpy.float64'>'\n",
       "\twith 19 stored elements in Compressed Sparse Row format>"
      ]
     },
     "execution_count": 579,
     "metadata": {},
     "output_type": "execute_result"
    }
   ],
   "source": [
    "tfidf.fit_transform(my_corpus)"
   ]
  },
  {
   "cell_type": "code",
   "execution_count": 580,
   "id": "19b4535a-d9ba-4a83-bf8b-02dc1471e635",
   "metadata": {},
   "outputs": [
    {
     "data": {
      "text/plain": [
       "['and',\n",
       " 'are',\n",
       " 'bites',\n",
       " 'dog',\n",
       " 'friends',\n",
       " 'god',\n",
       " 'great',\n",
       " 'is',\n",
       " 'kind',\n",
       " 'loves',\n",
       " 'man',\n",
       " 'to']"
      ]
     },
     "execution_count": 580,
     "metadata": {},
     "output_type": "execute_result"
    }
   ],
   "source": [
    "tfidf.get_feature_names() #words in vocab "
   ]
  },
  {
   "cell_type": "code",
   "execution_count": 588,
   "id": "bfbfb675-ea29-41ab-a27d-ce0fb5f7a6bd",
   "metadata": {},
   "outputs": [
    {
     "data": {
      "text/plain": [
       "[('and', 1.6931471805599454),\n",
       " ('are', 1.6931471805599454),\n",
       " ('bites', 1.2876820724517808),\n",
       " ('dog', 1.0),\n",
       " ('friends', 1.6931471805599454),\n",
       " ('god', 1.6931471805599454),\n",
       " ('great', 1.6931471805599454),\n",
       " ('is', 1.2876820724517808),\n",
       " ('kind', 1.2876820724517808),\n",
       " ('loves', 1.6931471805599454),\n",
       " ('man', 1.0),\n",
       " ('to', 1.6931471805599454)]"
      ]
     },
     "execution_count": 588,
     "metadata": {},
     "output_type": "execute_result"
    }
   ],
   "source": [
    "list(zip(tfidf.get_feature_names() ,tfidf.idf_))  #below is idf score -this is common for all docs)"
   ]
  },
  {
   "cell_type": "code",
   "execution_count": 581,
   "id": "83a520d3-8663-4479-95eb-a17c86b380b4",
   "metadata": {},
   "outputs": [
    {
     "data": {
      "text/plain": [
       "array([1.69314718, 1.69314718, 1.28768207, 1.        , 1.69314718,\n",
       "       1.69314718, 1.69314718, 1.28768207, 1.28768207, 1.69314718,\n",
       "       1.        , 1.69314718])"
      ]
     },
     "execution_count": 581,
     "metadata": {},
     "output_type": "execute_result"
    }
   ],
   "source": [
    "tfidf.idf_   #score of words in vocabulary  #man has lowest weightage as it is present in all sentences. and appeared only one sentence so high weightage"
   ]
  },
  {
   "cell_type": "code",
   "execution_count": 582,
   "id": "37646a47-9196-46e7-9fb7-c91a91931940",
   "metadata": {},
   "outputs": [
    {
     "data": {
      "text/plain": [
       "{'dog': 3,\n",
       " 'bites': 2,\n",
       " 'man': 10,\n",
       " 'great': 6,\n",
       " 'is': 7,\n",
       " 'kind': 8,\n",
       " 'to': 11,\n",
       " 'god': 5,\n",
       " 'loves': 9,\n",
       " 'and': 0,\n",
       " 'are': 1,\n",
       " 'friends': 4}"
      ]
     },
     "execution_count": 582,
     "metadata": {},
     "output_type": "execute_result"
    }
   ],
   "source": [
    "tfidf.vocabulary_"
   ]
  },
  {
   "cell_type": "code",
   "execution_count": 583,
   "id": "94e63dd8-26a5-4d26-a4c1-9e6e7510abc0",
   "metadata": {},
   "outputs": [
    {
     "data": {
      "text/plain": [
       "array([[0.        , 0.        , 0.29771209, 0.4624    , 0.        ,\n",
       "        0.        , 0.39145563, 0.29771209, 0.29771209, 0.        ,\n",
       "        0.4624    , 0.39145563],\n",
       "       [0.        , 0.        , 0.36580076, 0.28407693, 0.        ,\n",
       "        0.48098405, 0.        , 0.        , 0.        , 0.48098405,\n",
       "        0.56815385, 0.        ],\n",
       "       [0.3793921 , 0.3793921 , 0.        , 0.44815017, 0.3793921 ,\n",
       "        0.        , 0.        , 0.28853747, 0.28853747, 0.        ,\n",
       "        0.44815017, 0.        ]])"
      ]
     },
     "execution_count": 583,
     "metadata": {},
     "output_type": "execute_result"
    }
   ],
   "source": [
    "tfidf.fit_transform(my_corpus).toarray()   "
   ]
  },
  {
   "cell_type": "code",
   "execution_count": 584,
   "id": "eeedbeac-e6e4-4d34-83f3-c9d579a3acad",
   "metadata": {},
   "outputs": [
    {
     "data": {
      "text/plain": [
       "array([[0.        , 0.        , 0.29771209, 0.4624    , 0.        ,\n",
       "        0.        , 0.39145563, 0.29771209, 0.29771209, 0.        ,\n",
       "        0.4624    , 0.39145563]])"
      ]
     },
     "execution_count": 584,
     "metadata": {},
     "output_type": "execute_result"
    }
   ],
   "source": [
    "tfidf.fit_transform(my_corpus)[0].toarray()  #belongs to 'dog bites man. man is kind to dog'    #these are tfidf scores"
   ]
  },
  {
   "cell_type": "code",
   "execution_count": 585,
   "id": "6fd02ccb-44f7-4335-8226-42c75048cc79",
   "metadata": {},
   "outputs": [
    {
     "data": {
      "text/plain": [
       "[('dog bites man great. man is kind to dog',\n",
       "  array([0.        , 0.        , 0.29771209, 0.4624    , 0.        ,\n",
       "         0.        , 0.39145563, 0.29771209, 0.29771209, 0.        ,\n",
       "         0.4624    , 0.39145563])),\n",
       " ('man bites dog. god loves man',\n",
       "  array([0.        , 0.        , 0.36580076, 0.28407693, 0.        ,\n",
       "         0.48098405, 0.        , 0.        , 0.        , 0.48098405,\n",
       "         0.56815385, 0.        ])),\n",
       " ('Dog and man are friends. dog is kind man',\n",
       "  array([0.3793921 , 0.3793921 , 0.        , 0.44815017, 0.3793921 ,\n",
       "         0.        , 0.        , 0.28853747, 0.28853747, 0.        ,\n",
       "         0.44815017, 0.        ]))]"
      ]
     },
     "execution_count": 585,
     "metadata": {},
     "output_type": "execute_result"
    }
   ],
   "source": [
    "list(zip(my_corpus,tfidf.transform(my_corpus).toarray() ))  ## and, are-- are have 0 occurances and hence seeing 0. great is only present once - rare .. so high Tfidf"
   ]
  },
  {
   "cell_type": "markdown",
   "id": "165486a2-3d5b-4a1c-bf62-4e0529781c5a",
   "metadata": {},
   "source": [
    "#### as per tf ,idf formula--- idf is fixed. tf changes for each doc and so is tf*idf\n"
   ]
  },
  {
   "cell_type": "code",
   "execution_count": null,
   "id": "6f2c7d5c-1a5c-481a-9081-9f9a32e4c786",
   "metadata": {},
   "outputs": [],
   "source": []
  },
  {
   "cell_type": "code",
   "execution_count": null,
   "id": "59690da7-54c4-4806-9484-9b343090984a",
   "metadata": {},
   "outputs": [],
   "source": []
  },
  {
   "cell_type": "code",
   "execution_count": 591,
   "id": "a84df6b8-6f7c-424f-9c5b-9ea976a7311f",
   "metadata": {},
   "outputs": [
    {
     "name": "stdout",
     "output_type": "stream",
     "text": [
      "Collecting patool\n",
      "  Downloading patool-1.12-py2.py3-none-any.whl (77 kB)\n",
      "Installing collected packages: patool\n",
      "Successfully installed patool-1.12\n"
     ]
    },
    {
     "ename": "PatoolError",
     "evalue": "file `aclImdb_v1.tar.gz' was not found",
     "output_type": "error",
     "traceback": [
      "\u001b[1;31m---------------------------------------------------------------------------\u001b[0m",
      "\u001b[1;31mPatoolError\u001b[0m                               Traceback (most recent call last)",
      "Input \u001b[1;32mIn [591]\u001b[0m, in \u001b[0;36m<cell line: 3>\u001b[1;34m()\u001b[0m\n\u001b[0;32m      1\u001b[0m get_ipython()\u001b[38;5;241m.\u001b[39msystem(\u001b[38;5;124m'\u001b[39m\u001b[38;5;124mpip install patool\u001b[39m\u001b[38;5;124m'\u001b[39m)\n\u001b[0;32m      2\u001b[0m \u001b[38;5;28;01mimport\u001b[39;00m \u001b[38;5;21;01mpatoolib\u001b[39;00m\n\u001b[1;32m----> 3\u001b[0m \u001b[43mpatoolib\u001b[49m\u001b[38;5;241;43m.\u001b[39;49m\u001b[43mextract_archive\u001b[49m\u001b[43m(\u001b[49m\u001b[38;5;124;43m\"\u001b[39;49m\u001b[38;5;124;43maclImdb_v1.tar.gz\u001b[39;49m\u001b[38;5;124;43m\"\u001b[39;49m\u001b[43m)\u001b[49m\n",
      "File \u001b[1;32m~\\anaconda3\\lib\\site-packages\\patoolib\\__init__.py:681\u001b[0m, in \u001b[0;36mextract_archive\u001b[1;34m(archive, verbosity, outdir, program, interactive)\u001b[0m\n\u001b[0;32m    679\u001b[0m \u001b[38;5;28;01mdef\u001b[39;00m \u001b[38;5;21mextract_archive\u001b[39m(archive, verbosity\u001b[38;5;241m=\u001b[39m\u001b[38;5;241m0\u001b[39m, outdir\u001b[38;5;241m=\u001b[39m\u001b[38;5;28;01mNone\u001b[39;00m, program\u001b[38;5;241m=\u001b[39m\u001b[38;5;28;01mNone\u001b[39;00m, interactive\u001b[38;5;241m=\u001b[39m\u001b[38;5;28;01mTrue\u001b[39;00m):\n\u001b[0;32m    680\u001b[0m     \u001b[38;5;124;03m\"\"\"Extract given archive.\"\"\"\u001b[39;00m\n\u001b[1;32m--> 681\u001b[0m     \u001b[43mutil\u001b[49m\u001b[38;5;241;43m.\u001b[39;49m\u001b[43mcheck_existing_filename\u001b[49m\u001b[43m(\u001b[49m\u001b[43marchive\u001b[49m\u001b[43m)\u001b[49m\n\u001b[0;32m    682\u001b[0m     \u001b[38;5;28;01mif\u001b[39;00m verbosity \u001b[38;5;241m>\u001b[39m\u001b[38;5;241m=\u001b[39m \u001b[38;5;241m0\u001b[39m:\n\u001b[0;32m    683\u001b[0m         util\u001b[38;5;241m.\u001b[39mlog_info(\u001b[38;5;124m\"\u001b[39m\u001b[38;5;124mExtracting \u001b[39m\u001b[38;5;132;01m%s\u001b[39;00m\u001b[38;5;124m ...\u001b[39m\u001b[38;5;124m\"\u001b[39m \u001b[38;5;241m%\u001b[39m archive)\n",
      "File \u001b[1;32m~\\anaconda3\\lib\\site-packages\\patoolib\\util.py:398\u001b[0m, in \u001b[0;36mcheck_existing_filename\u001b[1;34m(filename, onlyfiles)\u001b[0m\n\u001b[0;32m    396\u001b[0m \u001b[38;5;124;03m\"\"\"Ensure that given filename is a valid, existing file.\"\"\"\u001b[39;00m\n\u001b[0;32m    397\u001b[0m \u001b[38;5;28;01mif\u001b[39;00m \u001b[38;5;129;01mnot\u001b[39;00m os\u001b[38;5;241m.\u001b[39mpath\u001b[38;5;241m.\u001b[39mexists(filename):\n\u001b[1;32m--> 398\u001b[0m     \u001b[38;5;28;01mraise\u001b[39;00m PatoolError(\u001b[38;5;124m\"\u001b[39m\u001b[38;5;124mfile `\u001b[39m\u001b[38;5;132;01m%s\u001b[39;00m\u001b[38;5;124m'\u001b[39m\u001b[38;5;124m was not found\u001b[39m\u001b[38;5;124m\"\u001b[39m \u001b[38;5;241m%\u001b[39m filename)\n\u001b[0;32m    399\u001b[0m \u001b[38;5;28;01mif\u001b[39;00m \u001b[38;5;129;01mnot\u001b[39;00m os\u001b[38;5;241m.\u001b[39maccess(filename, os\u001b[38;5;241m.\u001b[39mR_OK):\n\u001b[0;32m    400\u001b[0m     \u001b[38;5;28;01mraise\u001b[39;00m PatoolError(\u001b[38;5;124m\"\u001b[39m\u001b[38;5;124mfile `\u001b[39m\u001b[38;5;132;01m%s\u001b[39;00m\u001b[38;5;124m'\u001b[39m\u001b[38;5;124m is not readable\u001b[39m\u001b[38;5;124m\"\u001b[39m \u001b[38;5;241m%\u001b[39m filename)\n",
      "\u001b[1;31mPatoolError\u001b[0m: file `aclImdb_v1.tar.gz' was not found"
     ]
    }
   ],
   "source": [
    "!pip install patool\n",
    "import patoolib\n",
    "patoolib.extract_archive(\"aclImdb_v1.tar.gz\")\n",
    "\n"
   ]
  },
  {
   "cell_type": "raw",
   "id": "90c91133-f06d-43ae-adab-4ecc0351dead",
   "metadata": {},
   "source": []
  }
 ],
 "metadata": {
  "kernelspec": {
   "display_name": "Python 3 (ipykernel)",
   "language": "python",
   "name": "python3"
  },
  "language_info": {
   "codemirror_mode": {
    "name": "ipython",
    "version": 3
   },
   "file_extension": ".py",
   "mimetype": "text/x-python",
   "name": "python",
   "nbconvert_exporter": "python",
   "pygments_lexer": "ipython3",
   "version": "3.9.12"
  }
 },
 "nbformat": 4,
 "nbformat_minor": 5
}
